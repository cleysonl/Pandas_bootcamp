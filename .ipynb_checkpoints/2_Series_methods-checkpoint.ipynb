{
 "cells": [
  {
   "cell_type": "markdown",
   "id": "1a6e3131-7fd0-4648-a603-6951bab061d8",
   "metadata": {},
   "source": [
    "# **Series Methods and Handling**"
   ]
  },
  {
   "cell_type": "markdown",
   "id": "589a175f-3337-4aa9-8c8d-63d91157559b",
   "metadata": {},
   "source": [
    "* Series structure, item count, NaNs\n",
    "* Descriptive statistics\n",
    "* Series arithmetics\n",
    "* Sorting series\n",
    "* Filtering and custom transformations"
   ]
  },
  {
   "cell_type": "markdown",
   "id": "1cecb7ac-73b3-425d-9d24-024e5b79cdd9",
   "metadata": {},
   "source": [
    "## **Reading in data with `read_csv()`**"
   ]
  },
  {
   "cell_type": "code",
   "execution_count": 1,
   "id": "86bba4ba-31e0-474b-bf56-46919567e10b",
   "metadata": {},
   "outputs": [],
   "source": [
    "import pandas as pd"
   ]
  },
  {
   "cell_type": "code",
   "execution_count": 2,
   "id": "9a2f87ad-3827-42ea-b40d-6c4dbec44fb9",
   "metadata": {},
   "outputs": [],
   "source": [
    "# https://andybek.com/pandas-drinks"
   ]
  },
  {
   "cell_type": "code",
   "execution_count": 3,
   "id": "c4e9e256-6e3e-4e3e-8f8c-aa9cab39e424",
   "metadata": {},
   "outputs": [],
   "source": [
    "alcohol=pd.read_csv('https://andybek.com/pandas-drinks', usecols=['country','wine_servings'], index_col='country', squeeze=True)"
   ]
  },
  {
   "cell_type": "code",
   "execution_count": 4,
   "id": "a968d254-ced8-4c16-9570-1baf24aebfde",
   "metadata": {},
   "outputs": [
    {
     "data": {
      "text/plain": [
       "country\n",
       "Afghanistan      NaN\n",
       "Albania         54.0\n",
       "Algeria         14.0\n",
       "Andorra        312.0\n",
       "Angola          45.0\n",
       "Name: wine_servings, dtype: float64"
      ]
     },
     "execution_count": 4,
     "metadata": {},
     "output_type": "execute_result"
    }
   ],
   "source": [
    "alcohol.head()"
   ]
  },
  {
   "cell_type": "code",
   "execution_count": 5,
   "id": "073f493c-dd64-45c2-b7a6-2432106e3c3b",
   "metadata": {},
   "outputs": [
    {
     "data": {
      "text/plain": [
       "pandas.core.series.Series"
      ]
     },
     "execution_count": 5,
     "metadata": {},
     "output_type": "execute_result"
    }
   ],
   "source": [
    "type(alcohol)"
   ]
  },
  {
   "cell_type": "markdown",
   "id": "5742e8b9-6d6e-4649-b7c2-d92c3293c910",
   "metadata": {},
   "source": [
    "## **Series Sizing with size(), shape(), and len()**"
   ]
  },
  {
   "cell_type": "code",
   "execution_count": 6,
   "id": "5d9e9000-e223-41b5-87d7-a395e55e843c",
   "metadata": {},
   "outputs": [
    {
     "data": {
      "text/plain": [
       "country\n",
       "Afghanistan      NaN\n",
       "Albania         54.0\n",
       "Algeria         14.0\n",
       "Andorra        312.0\n",
       "Angola          45.0\n",
       "               ...  \n",
       "Venezuela        3.0\n",
       "Vietnam          1.0\n",
       "Yemen            NaN\n",
       "Zambia           4.0\n",
       "Zimbabwe         4.0\n",
       "Name: wine_servings, Length: 193, dtype: float64"
      ]
     },
     "execution_count": 6,
     "metadata": {},
     "output_type": "execute_result"
    }
   ],
   "source": [
    "alcohol"
   ]
  },
  {
   "cell_type": "code",
   "execution_count": 7,
   "id": "2637e7ef-ea56-4a14-9f4c-6a181ff7cfe1",
   "metadata": {},
   "outputs": [
    {
     "data": {
      "text/plain": [
       "array([ nan,  54.,  14., 312.,  45.,  45., 221.,  11., 212., 191.,   5.,\n",
       "        51.,   7.,  nan,  36.,  42., 212.,   8.,  13.,  nan,   8.,   8.,\n",
       "        35.,  16.,   1.,  94.,   7.,  nan,   7.,  16.,   1.,   4.,   1.,\n",
       "         1.,   1., 172.,   8.,   3.,   1.,   9.,  74.,  11., 254.,   5.,\n",
       "       113., 134.,  nan,   1., 278.,   3.,  26.,   9.,   3.,   1.,   2.,\n",
       "       233.,  nan,  59.,  nan,   1.,  97.,  37.,  59.,   1., 149., 175.,\n",
       "         1., 218.,  28.,   2.,   2.,  21.,   1.,   1.,   2., 185.,  78.,\n",
       "        nan,  nan,  nan,  nan, 165.,   9., 237.,   9.,  16.,   1.,  12.,\n",
       "         2.,   1.,  nan,   6., 123.,  62.,  31.,  nan,   2.,  nan,  56.,\n",
       "       271.,   4.,   1.,  nan,  nan,   1.,  12.,  nan,  nan,  18.,   5.,\n",
       "        18.,  nan,   8., 128.,   1.,   5.,  nan,   1.,   8.,  nan,  19.,\n",
       "       175.,   1.,   1.,   2.,   7., 129.,   1.,  nan,  23.,  18.,   1.,\n",
       "        74.,  21.,   1.,  56., 339.,   7.,   9.,  18., 167.,  73.,  nan,\n",
       "        32.,  71.,  11.,  24.,  nan,  14.,  nan,   7., 127.,  51.,   2.,\n",
       "        11., 116., 276.,   1.,  nan,  81., 112.,  nan,  nan,   7.,   2.,\n",
       "       186.,  28.,  16.,  nan,   1.,  86.,   4.,  19.,   5.,   7.,   2.,\n",
       "         7.,  32.,   9.,  nan,  45.,   5., 195.,   1.,  84.,  22.,   8.,\n",
       "        11.,   3.,   1.,  nan,   4.,   4.])"
      ]
     },
     "execution_count": 7,
     "metadata": {},
     "output_type": "execute_result"
    }
   ],
   "source": [
    "alcohol.values"
   ]
  },
  {
   "cell_type": "code",
   "execution_count": 8,
   "id": "aea641e2-d745-41b7-9c10-2ce5c0715548",
   "metadata": {},
   "outputs": [
    {
     "data": {
      "text/plain": [
       "Index(['Afghanistan', 'Albania', 'Algeria', 'Andorra', 'Angola',\n",
       "       'Antigua & Barbuda', 'Argentina', 'Armenia', 'Australia', 'Austria',\n",
       "       ...\n",
       "       'Tanzania', 'USA', 'Uruguay', 'Uzbekistan', 'Vanuatu', 'Venezuela',\n",
       "       'Vietnam', 'Yemen', 'Zambia', 'Zimbabwe'],\n",
       "      dtype='object', name='country', length=193)"
      ]
     },
     "execution_count": 8,
     "metadata": {},
     "output_type": "execute_result"
    }
   ],
   "source": [
    "alcohol.index"
   ]
  },
  {
   "cell_type": "code",
   "execution_count": 9,
   "id": "b085b479-5583-419f-871b-db5afd2f5495",
   "metadata": {},
   "outputs": [
    {
     "data": {
      "text/plain": [
       "(193,)"
      ]
     },
     "execution_count": 9,
     "metadata": {},
     "output_type": "execute_result"
    }
   ],
   "source": [
    "alcohol.shape"
   ]
  },
  {
   "cell_type": "code",
   "execution_count": 10,
   "id": "871b835b-f6dc-4726-9af8-7d46075d492f",
   "metadata": {},
   "outputs": [
    {
     "data": {
      "text/plain": [
       "193"
      ]
     },
     "execution_count": 10,
     "metadata": {},
     "output_type": "execute_result"
    }
   ],
   "source": [
    "alcohol.size"
   ]
  },
  {
   "cell_type": "code",
   "execution_count": 11,
   "id": "92b8c927-a944-48de-9d59-8381656a6614",
   "metadata": {},
   "outputs": [
    {
     "data": {
      "text/plain": [
       "193"
      ]
     },
     "execution_count": 11,
     "metadata": {},
     "output_type": "execute_result"
    }
   ],
   "source": [
    "len(alcohol)"
   ]
  },
  {
   "cell_type": "markdown",
   "id": "9f7191a5-d373-47c4-b160-1ae11d24681a",
   "metadata": {},
   "source": [
    "## **Unique values and Series Monotonicity**"
   ]
  },
  {
   "cell_type": "code",
   "execution_count": 12,
   "id": "88c699e9-bb59-42ab-ae5c-24cc83379846",
   "metadata": {},
   "outputs": [
    {
     "data": {
      "text/plain": [
       "False"
      ]
     },
     "execution_count": 12,
     "metadata": {},
     "output_type": "execute_result"
    }
   ],
   "source": [
    "alcohol.is_unique"
   ]
  },
  {
   "cell_type": "code",
   "execution_count": 13,
   "id": "9716ea78-03f4-48c8-8ccf-f402dba86fed",
   "metadata": {},
   "outputs": [
    {
     "data": {
      "text/plain": [
       "country\n",
       "Afghanistan      NaN\n",
       "Albania         54.0\n",
       "Algeria         14.0\n",
       "Andorra        312.0\n",
       "Angola          45.0\n",
       "Name: wine_servings, dtype: float64"
      ]
     },
     "execution_count": 13,
     "metadata": {},
     "output_type": "execute_result"
    }
   ],
   "source": [
    "alcohol.head()"
   ]
  },
  {
   "cell_type": "code",
   "execution_count": 14,
   "id": "ae339ead-2dc9-423e-b113-6f3b5d37c040",
   "metadata": {},
   "outputs": [
    {
     "data": {
      "text/plain": [
       "True"
      ]
     },
     "execution_count": 14,
     "metadata": {},
     "output_type": "execute_result"
    }
   ],
   "source": [
    "alcohol.head().is_unique"
   ]
  },
  {
   "cell_type": "code",
   "execution_count": 15,
   "id": "2a14568c-f9ad-4b85-b2f4-e09f48852238",
   "metadata": {},
   "outputs": [
    {
     "data": {
      "text/plain": [
       "72"
      ]
     },
     "execution_count": 15,
     "metadata": {},
     "output_type": "execute_result"
    }
   ],
   "source": [
    "alcohol.nunique(dropna=False)"
   ]
  },
  {
   "cell_type": "code",
   "execution_count": 16,
   "id": "9278c970-73e3-4d59-969d-c702d47fb4a6",
   "metadata": {},
   "outputs": [],
   "source": [
    "# monotonicity"
   ]
  },
  {
   "cell_type": "code",
   "execution_count": 17,
   "id": "b743b022-5eb0-44d6-af76-56ff06a73327",
   "metadata": {},
   "outputs": [
    {
     "data": {
      "text/plain": [
       "True"
      ]
     },
     "execution_count": 17,
     "metadata": {},
     "output_type": "execute_result"
    }
   ],
   "source": [
    "pd.Series([1,2,3]).is_monotonic"
   ]
  },
  {
   "cell_type": "code",
   "execution_count": 18,
   "id": "6d59e93b-29cf-455b-9dfc-a98fcfc68006",
   "metadata": {},
   "outputs": [
    {
     "data": {
      "text/plain": [
       "False"
      ]
     },
     "execution_count": 18,
     "metadata": {},
     "output_type": "execute_result"
    }
   ],
   "source": [
    "pd.Series([1,2,3,2.9]).is_monotonic"
   ]
  },
  {
   "cell_type": "code",
   "execution_count": 19,
   "id": "6ab3234c-356d-4f13-a6a6-01da0552c7e8",
   "metadata": {},
   "outputs": [
    {
     "data": {
      "text/plain": [
       "False"
      ]
     },
     "execution_count": 19,
     "metadata": {},
     "output_type": "execute_result"
    }
   ],
   "source": [
    "pd.Series(reversed([1,2,3])).is_monotonic_increasing"
   ]
  },
  {
   "cell_type": "code",
   "execution_count": 20,
   "id": "55409f7c-8962-40b5-95e9-edfa6a97781d",
   "metadata": {},
   "outputs": [
    {
     "data": {
      "text/plain": [
       "True"
      ]
     },
     "execution_count": 20,
     "metadata": {},
     "output_type": "execute_result"
    }
   ],
   "source": [
    "pd.Series(reversed([1,2,3])).is_monotonic_decreasing"
   ]
  },
  {
   "cell_type": "markdown",
   "id": "a4f97e97-54ee-4db5-9bf2-c47510d4d9f8",
   "metadata": {
    "jp-MarkdownHeadingCollapsed": true,
    "tags": []
   },
   "source": [
    "## **Count() Method**"
   ]
  },
  {
   "cell_type": "code",
   "execution_count": 21,
   "id": "3da6a597-a41c-4154-89c6-4dd5afa9bb8d",
   "metadata": {},
   "outputs": [
    {
     "data": {
      "text/plain": [
       "162"
      ]
     },
     "execution_count": 21,
     "metadata": {},
     "output_type": "execute_result"
    }
   ],
   "source": [
    "# Only counts values that are not Null\n",
    "alcohol.count()"
   ]
  },
  {
   "cell_type": "code",
   "execution_count": 22,
   "id": "0b7d1a9c-9040-481e-8a2c-f8216cccbd08",
   "metadata": {},
   "outputs": [
    {
     "data": {
      "text/plain": [
       "193"
      ]
     },
     "execution_count": 22,
     "metadata": {},
     "output_type": "execute_result"
    }
   ],
   "source": [
    "alcohol.size"
   ]
  },
  {
   "cell_type": "code",
   "execution_count": 23,
   "id": "08150474-0504-4855-8c4b-b974e520a81c",
   "metadata": {},
   "outputs": [
    {
     "data": {
      "text/plain": [
       "True"
      ]
     },
     "execution_count": 23,
     "metadata": {},
     "output_type": "execute_result"
    }
   ],
   "source": [
    "# Does it has NaNs\n",
    "alcohol.hasnans"
   ]
  },
  {
   "cell_type": "markdown",
   "id": "97e91c2b-1ab3-486c-afb3-cec6dc7449c1",
   "metadata": {
    "jp-MarkdownHeadingCollapsed": true,
    "tags": []
   },
   "source": [
    "## **Accesing and counting NaNs**"
   ]
  },
  {
   "cell_type": "code",
   "execution_count": 24,
   "id": "15e8c184-4bf2-4bea-bc55-a5917c3fb81c",
   "metadata": {},
   "outputs": [
    {
     "data": {
      "text/plain": [
       "country\n",
       "Afghanistan     True\n",
       "Albania        False\n",
       "Algeria        False\n",
       "Andorra        False\n",
       "Angola         False\n",
       "               ...  \n",
       "Venezuela      False\n",
       "Vietnam        False\n",
       "Yemen           True\n",
       "Zambia         False\n",
       "Zimbabwe       False\n",
       "Name: wine_servings, Length: 193, dtype: bool"
      ]
     },
     "execution_count": 24,
     "metadata": {},
     "output_type": "execute_result"
    }
   ],
   "source": [
    "alcohol.isna()"
   ]
  },
  {
   "cell_type": "code",
   "execution_count": 25,
   "id": "58e907f6-db74-478f-8af0-630b532fa7bf",
   "metadata": {},
   "outputs": [
    {
     "data": {
      "text/plain": [
       "Index(['Afghanistan', 'Bangladesh', 'Bhutan', 'Burundi', 'North Korea',\n",
       "       'Eritrea', 'Ethiopia', 'India', 'Indonesia', 'Iran', 'Iraq', 'Kuwait',\n",
       "       'Lesotho', 'Libya', 'Malaysia', 'Maldives', 'Marshall Islands',\n",
       "       'Mauritania', 'Monaco', 'Myanmar', 'Nepal', 'Pakistan', 'Rwanda',\n",
       "       'San Marino', 'Saudi Arabia', 'Somalia', 'Sri Lanka', 'Sudan',\n",
       "       'Tajikistan', 'Uganda', 'Yemen'],\n",
       "      dtype='object', name='country')"
      ]
     },
     "execution_count": 25,
     "metadata": {},
     "output_type": "execute_result"
    }
   ],
   "source": [
    "alcohol[alcohol.isna()].index"
   ]
  },
  {
   "cell_type": "code",
   "execution_count": 26,
   "id": "8fb34c92-439e-41b4-a18f-986c7d2e3d08",
   "metadata": {},
   "outputs": [
    {
     "data": {
      "text/plain": [
       "pandas.core.indexes.base.Index"
      ]
     },
     "execution_count": 26,
     "metadata": {},
     "output_type": "execute_result"
    }
   ],
   "source": [
    "type(alcohol[alcohol.isna()].index)"
   ]
  },
  {
   "cell_type": "code",
   "execution_count": 27,
   "id": "1f7fc93f-c393-4927-ab20-76b4fab8f6fa",
   "metadata": {},
   "outputs": [
    {
     "data": {
      "text/plain": [
       "['Afghanistan',\n",
       " 'Bangladesh',\n",
       " 'Bhutan',\n",
       " 'Burundi',\n",
       " 'North Korea',\n",
       " 'Eritrea',\n",
       " 'Ethiopia',\n",
       " 'India',\n",
       " 'Indonesia',\n",
       " 'Iran',\n",
       " 'Iraq',\n",
       " 'Kuwait',\n",
       " 'Lesotho',\n",
       " 'Libya',\n",
       " 'Malaysia',\n",
       " 'Maldives',\n",
       " 'Marshall Islands',\n",
       " 'Mauritania',\n",
       " 'Monaco',\n",
       " 'Myanmar',\n",
       " 'Nepal',\n",
       " 'Pakistan',\n",
       " 'Rwanda',\n",
       " 'San Marino',\n",
       " 'Saudi Arabia',\n",
       " 'Somalia',\n",
       " 'Sri Lanka',\n",
       " 'Sudan',\n",
       " 'Tajikistan',\n",
       " 'Uganda',\n",
       " 'Yemen']"
      ]
     },
     "execution_count": 27,
     "metadata": {},
     "output_type": "execute_result"
    }
   ],
   "source": [
    "list(alcohol[alcohol.isna()].index)"
   ]
  },
  {
   "cell_type": "code",
   "execution_count": 28,
   "id": "f15bdd00-b123-4782-8c04-6d02195173ec",
   "metadata": {},
   "outputs": [
    {
     "data": {
      "text/plain": [
       "31"
      ]
     },
     "execution_count": 28,
     "metadata": {},
     "output_type": "execute_result"
    }
   ],
   "source": [
    "# Long way to get the number of Nulls\n",
    "len(list(alcohol[alcohol.isna()].index))"
   ]
  },
  {
   "cell_type": "code",
   "execution_count": 29,
   "id": "836ba296-607b-4957-b919-ea560e25973f",
   "metadata": {},
   "outputs": [
    {
     "data": {
      "text/plain": [
       "31"
      ]
     },
     "execution_count": 29,
     "metadata": {},
     "output_type": "execute_result"
    }
   ],
   "source": [
    "# Pandorable way of getting number of Nulls\n",
    "alcohol.isnull().sum()"
   ]
  },
  {
   "cell_type": "code",
   "execution_count": 30,
   "id": "6a5d5e36-9caf-4dc0-98ad-e7bb759dd384",
   "metadata": {},
   "outputs": [
    {
     "data": {
      "text/plain": [
       "2"
      ]
     },
     "execution_count": 30,
     "metadata": {},
     "output_type": "execute_result"
    }
   ],
   "source": [
    "# booleans are integers in python\n",
    "sum([True, True, False])"
   ]
  },
  {
   "cell_type": "code",
   "execution_count": 31,
   "id": "35632e31-ab2c-4025-93d8-7ec10040948e",
   "metadata": {},
   "outputs": [],
   "source": [
    "all = alcohol.size\n",
    "nonnulls = alcohol.count()\n",
    "nulls = alcohol.isnull().sum()"
   ]
  },
  {
   "cell_type": "code",
   "execution_count": 32,
   "id": "f3078752-40f1-4bc8-a37f-f716f5aa25cd",
   "metadata": {},
   "outputs": [
    {
     "data": {
      "text/plain": [
       "True"
      ]
     },
     "execution_count": 32,
     "metadata": {},
     "output_type": "execute_result"
    }
   ],
   "source": [
    "all == nonnulls + nulls"
   ]
  },
  {
   "cell_type": "markdown",
   "id": "9b3cdf3f-69a6-409f-ba59-6a9b1798e9d8",
   "metadata": {},
   "source": [
    "## **Another approach**"
   ]
  },
  {
   "cell_type": "code",
   "execution_count": 33,
   "id": "2056cbf6-3371-44fe-a22e-00f8287b71d7",
   "metadata": {},
   "outputs": [],
   "source": [
    "import numpy as np"
   ]
  },
  {
   "cell_type": "code",
   "execution_count": 34,
   "id": "f894958c-0f1e-4e01-a740-aac9120d54ae",
   "metadata": {},
   "outputs": [],
   "source": [
    "# ufunc -> universal function"
   ]
  },
  {
   "cell_type": "code",
   "execution_count": 35,
   "id": "f9f321e6-7eb3-45e1-9bde-d4ab3e4dd5e5",
   "metadata": {},
   "outputs": [
    {
     "data": {
      "text/plain": [
       "<ufunc 'isnan'>"
      ]
     },
     "execution_count": 35,
     "metadata": {},
     "output_type": "execute_result"
    }
   ],
   "source": [
    "np.isnan"
   ]
  },
  {
   "cell_type": "code",
   "execution_count": 36,
   "id": "6eb1ef54-3369-4168-9e28-7a054d4dbfd8",
   "metadata": {},
   "outputs": [],
   "source": [
    "ser = pd.Series(data=[True, False, None, 2], dtype=float)"
   ]
  },
  {
   "cell_type": "code",
   "execution_count": 37,
   "id": "fa99de26-3a25-4fb8-802e-b1a3d4a2c96e",
   "metadata": {},
   "outputs": [
    {
     "data": {
      "text/plain": [
       "0    False\n",
       "1    False\n",
       "2     True\n",
       "3    False\n",
       "dtype: bool"
      ]
     },
     "execution_count": 37,
     "metadata": {},
     "output_type": "execute_result"
    }
   ],
   "source": [
    "np.isnan(ser)"
   ]
  },
  {
   "cell_type": "code",
   "execution_count": 38,
   "id": "2dec4e31-7b0b-4265-9a7e-269b202d994d",
   "metadata": {},
   "outputs": [
    {
     "data": {
      "text/plain": [
       "0    1.0\n",
       "1    0.0\n",
       "2    NaN\n",
       "3    2.0\n",
       "dtype: float64"
      ]
     },
     "execution_count": 38,
     "metadata": {},
     "output_type": "execute_result"
    }
   ],
   "source": [
    "ser"
   ]
  },
  {
   "cell_type": "code",
   "execution_count": 39,
   "id": "96f8d623-b0ea-449b-a737-aa940f7dd9e0",
   "metadata": {},
   "outputs": [
    {
     "data": {
      "text/plain": [
       "31"
      ]
     },
     "execution_count": 39,
     "metadata": {},
     "output_type": "execute_result"
    }
   ],
   "source": [
    "# Numpy approach is more elegant and outperform\n",
    "alcohol[np.isnan].size"
   ]
  },
  {
   "cell_type": "code",
   "execution_count": 40,
   "id": "0cf46a7c-9aeb-48d6-8f85-78d8bec13223",
   "metadata": {},
   "outputs": [],
   "source": [
    "# alcohol[alcohol.isna()]"
   ]
  },
  {
   "cell_type": "markdown",
   "id": "dce1c41a-c0a3-430f-a8fb-273d89353b3b",
   "metadata": {
    "jp-MarkdownHeadingCollapsed": true,
    "tags": []
   },
   "source": [
    "## **The other side: `notnull()` and `notna()`**"
   ]
  },
  {
   "cell_type": "code",
   "execution_count": 41,
   "id": "8c65fb1b-1134-4bf5-bd28-0ca2307b583e",
   "metadata": {},
   "outputs": [
    {
     "data": {
      "text/plain": [
       "country\n",
       "Afghanistan    False\n",
       "Albania         True\n",
       "Algeria         True\n",
       "Andorra         True\n",
       "Angola          True\n",
       "               ...  \n",
       "Venezuela       True\n",
       "Vietnam         True\n",
       "Yemen          False\n",
       "Zambia          True\n",
       "Zimbabwe        True\n",
       "Name: wine_servings, Length: 193, dtype: bool"
      ]
     },
     "execution_count": 41,
     "metadata": {},
     "output_type": "execute_result"
    }
   ],
   "source": [
    "alcohol.notnull()"
   ]
  },
  {
   "cell_type": "code",
   "execution_count": 42,
   "id": "35ed1d26-eb4b-4000-9dde-72ed8e70b9a3",
   "metadata": {},
   "outputs": [
    {
     "data": {
      "text/plain": [
       "162"
      ]
     },
     "execution_count": 42,
     "metadata": {},
     "output_type": "execute_result"
    }
   ],
   "source": [
    "alcohol.notnull().sum()"
   ]
  },
  {
   "cell_type": "code",
   "execution_count": 43,
   "id": "a3e20f4e-7e63-4e70-8368-56e95db8948b",
   "metadata": {},
   "outputs": [
    {
     "data": {
      "text/plain": [
       "country\n",
       "Albania               54.0\n",
       "Algeria               14.0\n",
       "Andorra              312.0\n",
       "Angola                45.0\n",
       "Antigua & Barbuda     45.0\n",
       "                     ...  \n",
       "Vanuatu               11.0\n",
       "Venezuela              3.0\n",
       "Vietnam                1.0\n",
       "Zambia                 4.0\n",
       "Zimbabwe               4.0\n",
       "Name: wine_servings, Length: 162, dtype: float64"
      ]
     },
     "execution_count": 43,
     "metadata": {},
     "output_type": "execute_result"
    }
   ],
   "source": [
    "alcohol.loc[alcohol.notnull()]"
   ]
  },
  {
   "cell_type": "code",
   "execution_count": 44,
   "id": "0a1b8f75-0bd5-46aa-bd8a-a9816f3c806e",
   "metadata": {},
   "outputs": [
    {
     "data": {
      "text/plain": [
       "162"
      ]
     },
     "execution_count": 44,
     "metadata": {},
     "output_type": "execute_result"
    }
   ],
   "source": [
    "alcohol.count()"
   ]
  },
  {
   "cell_type": "code",
   "execution_count": 45,
   "id": "816b1873-c696-4083-965f-dd850b442134",
   "metadata": {},
   "outputs": [
    {
     "data": {
      "text/plain": [
       "True"
      ]
     },
     "execution_count": 45,
     "metadata": {},
     "output_type": "execute_result"
    }
   ],
   "source": [
    "alcohol.notnull().sum() + alcohol.isnull().sum() == alcohol.size"
   ]
  },
  {
   "cell_type": "markdown",
   "id": "d05d5c65-a447-435b-b8df-aab647cad8d1",
   "metadata": {
    "jp-MarkdownHeadingCollapsed": true,
    "tags": []
   },
   "source": [
    "## **Skill Challenge**"
   ]
  },
  {
   "cell_type": "code",
   "execution_count": 46,
   "id": "23c90c48-a33b-4b58-8d1e-5836ca83ecd7",
   "metadata": {},
   "outputs": [],
   "source": [
    "# Isolate the nonnulls\n",
    "wine_servings = alcohol.loc[alcohol.notnull()]"
   ]
  },
  {
   "cell_type": "code",
   "execution_count": 47,
   "id": "c4096ce6-20fa-4a8c-a628-7f1fcb7ef615",
   "metadata": {},
   "outputs": [
    {
     "data": {
      "text/plain": [
       "162"
      ]
     },
     "execution_count": 47,
     "metadata": {},
     "output_type": "execute_result"
    }
   ],
   "source": [
    "wine_servings.size"
   ]
  },
  {
   "cell_type": "code",
   "execution_count": 48,
   "id": "dd23076c-7d8d-45db-bbac-ba2e8aa0123d",
   "metadata": {},
   "outputs": [
    {
     "data": {
      "text/plain": [
       "8221.0"
      ]
     },
     "execution_count": 48,
     "metadata": {},
     "output_type": "execute_result"
    }
   ],
   "source": [
    "wine_servings.sum()"
   ]
  },
  {
   "cell_type": "code",
   "execution_count": 49,
   "id": "2c0ad5db-7d41-4b8d-af53-f682a03067f6",
   "metadata": {},
   "outputs": [
    {
     "data": {
      "text/plain": [
       "2416.0"
      ]
     },
     "execution_count": 49,
     "metadata": {},
     "output_type": "execute_result"
    }
   ],
   "source": [
    "wine_servings[wine_servings<100].sum()"
   ]
  },
  {
   "cell_type": "markdown",
   "id": "6e37c62c-7753-4e8e-8442-b34376b2a803",
   "metadata": {
    "jp-MarkdownHeadingCollapsed": true,
    "tags": []
   },
   "source": [
    "## **Dropping and filling NAs**"
   ]
  },
  {
   "cell_type": "code",
   "execution_count": 50,
   "id": "68bc0261-4b2a-4c61-924e-b78101bb9d76",
   "metadata": {},
   "outputs": [
    {
     "data": {
      "text/plain": [
       "country\n",
       "Albania               54.0\n",
       "Algeria               14.0\n",
       "Andorra              312.0\n",
       "Angola                45.0\n",
       "Antigua & Barbuda     45.0\n",
       "                     ...  \n",
       "Vanuatu               11.0\n",
       "Venezuela              3.0\n",
       "Vietnam                1.0\n",
       "Zambia                 4.0\n",
       "Zimbabwe               4.0\n",
       "Name: wine_servings, Length: 162, dtype: float64"
      ]
     },
     "execution_count": 50,
     "metadata": {},
     "output_type": "execute_result"
    }
   ],
   "source": [
    "alcohol.dropna()"
   ]
  },
  {
   "cell_type": "code",
   "execution_count": 51,
   "id": "99c11b58-86f1-44eb-9b98-3b6937b16b16",
   "metadata": {},
   "outputs": [
    {
     "data": {
      "text/plain": [
       "country\n",
       "Afghanistan      NaN\n",
       "Albania         54.0\n",
       "Algeria         14.0\n",
       "Andorra        312.0\n",
       "Angola          45.0\n",
       "               ...  \n",
       "Venezuela        3.0\n",
       "Vietnam          1.0\n",
       "Yemen            NaN\n",
       "Zambia           4.0\n",
       "Zimbabwe         4.0\n",
       "Name: wine_servings, Length: 193, dtype: float64"
      ]
     },
     "execution_count": 51,
     "metadata": {},
     "output_type": "execute_result"
    }
   ],
   "source": [
    "alcohol"
   ]
  },
  {
   "cell_type": "code",
   "execution_count": 52,
   "id": "b6b0e244-a8f9-4525-8731-0cdfcda5b4df",
   "metadata": {},
   "outputs": [],
   "source": [
    "# alcohol = alcohol.dropna()\n",
    "# alcohol.dropna(inplace=True)"
   ]
  },
  {
   "cell_type": "code",
   "execution_count": 53,
   "id": "c7867502-6866-468b-ab02-a8700733eba3",
   "metadata": {},
   "outputs": [
    {
     "data": {
      "text/plain": [
       "country\n",
       "Afghanistan    100.0\n",
       "Albania         54.0\n",
       "Algeria         14.0\n",
       "Andorra        312.0\n",
       "Angola          45.0\n",
       "               ...  \n",
       "Venezuela        3.0\n",
       "Vietnam          1.0\n",
       "Yemen          100.0\n",
       "Zambia           4.0\n",
       "Zimbabwe         4.0\n",
       "Name: wine_servings, Length: 193, dtype: float64"
      ]
     },
     "execution_count": 53,
     "metadata": {},
     "output_type": "execute_result"
    }
   ],
   "source": [
    "# Filling NAs\n",
    "alcohol.fillna(100, inplace=False)"
   ]
  },
  {
   "cell_type": "markdown",
   "id": "77dfbdac-a609-4329-b766-7a09807b8ee7",
   "metadata": {
    "tags": []
   },
   "source": [
    "## **Descriptive Statistics**"
   ]
  },
  {
   "cell_type": "code",
   "execution_count": 54,
   "id": "731c36aa-2bac-4a3e-a9a8-0c855feb546f",
   "metadata": {},
   "outputs": [
    {
     "data": {
      "text/plain": [
       "8221.0"
      ]
     },
     "execution_count": 54,
     "metadata": {},
     "output_type": "execute_result"
    }
   ],
   "source": [
    "alcohol.sum()"
   ]
  },
  {
   "cell_type": "code",
   "execution_count": 99,
   "id": "bc715cc6-8172-4c86-a3c8-44a6483e4f7f",
   "metadata": {},
   "outputs": [
    {
     "data": {
      "text/plain": [
       "50.74691358024691"
      ]
     },
     "execution_count": 99,
     "metadata": {},
     "output_type": "execute_result"
    }
   ],
   "source": [
    "# Mean\n",
    "alcohol.mean()"
   ]
  },
  {
   "cell_type": "code",
   "execution_count": 100,
   "id": "7d199065-174e-4a63-81da-614034207032",
   "metadata": {},
   "outputs": [
    {
     "data": {
      "text/plain": [
       "50.74691358024691"
      ]
     },
     "execution_count": 100,
     "metadata": {},
     "output_type": "execute_result"
    }
   ],
   "source": [
    "alcohol.sum()/alcohol.count()"
   ]
  },
  {
   "cell_type": "code",
   "execution_count": 58,
   "id": "616a41aa-a357-4dee-896b-0ec17da8531b",
   "metadata": {},
   "outputs": [
    {
     "data": {
      "text/plain": [
       "11.5"
      ]
     },
     "execution_count": 58,
     "metadata": {},
     "output_type": "execute_result"
    }
   ],
   "source": [
    "# Median\n",
    "alcohol.median()"
   ]
  },
  {
   "cell_type": "code",
   "execution_count": 60,
   "id": "a2693672-d5cd-44e4-ad6e-03651f342a42",
   "metadata": {},
   "outputs": [
    {
     "data": {
      "text/plain": [
       "11.5"
      ]
     },
     "execution_count": 60,
     "metadata": {},
     "output_type": "execute_result"
    }
   ],
   "source": [
    "# Quantile\n",
    "alcohol.quantile(q=.5)"
   ]
  },
  {
   "cell_type": "code",
   "execution_count": 61,
   "id": "75086fa6-6d4c-4120-af18-bb3b78234129",
   "metadata": {},
   "outputs": [
    {
     "data": {
      "image/png": "[encoded data removed]",
      "text/plain": [
       "<Figure size 432x288 with 1 Axes>"
      ]
     },
     "metadata": {
      "needs_background": "light"
     },
     "output_type": "display_data"
    }
   ],
   "source": [
    "alcohol.hist();"
   ]
  },
  {
   "cell_type": "code",
   "execution_count": 62,
   "id": "ba0ac82d-95ab-4d19-8b66-9d0759875d6d",
   "metadata": {},
   "outputs": [],
   "source": [
    "#IQR\n",
    "iqr = alcohol.quantile(.75) - alcohol.quantile(.25)"
   ]
  },
  {
   "cell_type": "code",
   "execution_count": 63,
   "id": "307e1b05-a0a8-4e07-b6cc-62cec351a510",
   "metadata": {},
   "outputs": [
    {
     "data": {
      "text/plain": [
       "58.25"
      ]
     },
     "execution_count": 63,
     "metadata": {},
     "output_type": "execute_result"
    }
   ],
   "source": [
    "iqr"
   ]
  },
  {
   "cell_type": "code",
   "execution_count": 64,
   "id": "41dd9e1e-937f-44a7-933b-0fdc39db7fb6",
   "metadata": {},
   "outputs": [
    {
     "data": {
      "text/plain": [
       "1.0"
      ]
     },
     "execution_count": 64,
     "metadata": {},
     "output_type": "execute_result"
    }
   ],
   "source": [
    "#Min\n",
    "alcohol.min()"
   ]
  },
  {
   "cell_type": "code",
   "execution_count": 96,
   "id": "17c9a4c1-8f37-45fd-9b96-819d16b16f6f",
   "metadata": {},
   "outputs": [
    {
     "data": {
      "text/plain": [
       "339.0"
      ]
     },
     "execution_count": 96,
     "metadata": {},
     "output_type": "execute_result"
    }
   ],
   "source": [
    "# Max\n",
    "alcohol.max()"
   ]
  },
  {
   "cell_type": "code",
   "execution_count": 97,
   "id": "a44071c5-ee86-4b43-9b25-dc8ff492ffdc",
   "metadata": {},
   "outputs": [
    {
     "data": {
      "text/plain": [
       "76.13491716376173"
      ]
     },
     "execution_count": 97,
     "metadata": {},
     "output_type": "execute_result"
    }
   ],
   "source": [
    "# Std\n",
    "alcohol.std()"
   ]
  },
  {
   "cell_type": "code",
   "execution_count": 98,
   "id": "112cd43e-bd3d-479a-ac48-0ed7fa9dea61",
   "metadata": {},
   "outputs": [
    {
     "data": {
      "text/plain": [
       "5796.52561153286"
      ]
     },
     "execution_count": 98,
     "metadata": {},
     "output_type": "execute_result"
    }
   ],
   "source": [
    "# Var\n",
    "alcohol.var()"
   ]
  },
  {
   "cell_type": "code",
   "execution_count": 70,
   "id": "fab35330-c833-48e4-8850-0cb6f400a836",
   "metadata": {},
   "outputs": [
    {
     "data": {
      "text/plain": [
       "5796.52561153286"
      ]
     },
     "execution_count": 70,
     "metadata": {},
     "output_type": "execute_result"
    }
   ],
   "source": [
    "(alcohol.std())**2"
   ]
  },
  {
   "cell_type": "code",
   "execution_count": 71,
   "id": "e076ccfe-cd78-4f05-b2f7-3de5501f46a1",
   "metadata": {},
   "outputs": [
    {
     "data": {
      "text/plain": [
       "count    162.000000\n",
       "mean      50.746914\n",
       "std       76.134917\n",
       "min        1.000000\n",
       "25%        3.000000\n",
       "50%       11.500000\n",
       "75%       61.250000\n",
       "max      339.000000\n",
       "Name: wine_servings, dtype: float64"
      ]
     },
     "execution_count": 71,
     "metadata": {},
     "output_type": "execute_result"
    }
   ],
   "source": [
    "alcohol.describe()"
   ]
  },
  {
   "cell_type": "code",
   "execution_count": 72,
   "id": "774f5a5b-e703-487f-9a23-a878b5cde500",
   "metadata": {},
   "outputs": [
    {
     "data": {
      "text/plain": [
       "count    162.000000\n",
       "mean      50.746914\n",
       "std       76.134917\n",
       "min        1.000000\n",
       "19%        2.000000\n",
       "50%       11.500000\n",
       "79%       81.570000\n",
       "max      339.000000\n",
       "Name: wine_servings, dtype: float64"
      ]
     },
     "execution_count": 72,
     "metadata": {},
     "output_type": "execute_result"
    }
   ],
   "source": [
    "alcohol.describe(percentiles=[.79, .19])"
   ]
  },
  {
   "cell_type": "code",
   "execution_count": 73,
   "id": "2f0d4b47-4e05-465c-b844-4a0953c86933",
   "metadata": {},
   "outputs": [
    {
     "data": {
      "text/plain": [
       "count    162.000000\n",
       "mean      50.746914\n",
       "std       76.134917\n",
       "min        1.000000\n",
       "19%        2.000000\n",
       "50%       11.500000\n",
       "79%       81.570000\n",
       "max      339.000000\n",
       "Name: wine_servings, dtype: float64"
      ]
     },
     "execution_count": 73,
     "metadata": {},
     "output_type": "execute_result"
    }
   ],
   "source": [
    "alcohol.describe(percentiles=[.79, .19], include=float, exclude=object)"
   ]
  },
  {
   "cell_type": "markdown",
   "id": "2766811c-fa7d-4852-bf85-316e1fcbf149",
   "metadata": {
    "jp-MarkdownHeadingCollapsed": true,
    "tags": []
   },
   "source": [
    "## **`mode()` and `value_counts()`**"
   ]
  },
  {
   "cell_type": "markdown",
   "id": "a68d31eb-80e2-448e-82be-36bf4c945df6",
   "metadata": {},
   "source": [
    "`value_counts()` -> a sorted series containing unique values and their counts\n",
    "\n",
    "`ser.value_counts(sort=True, ascending=False, dropna=True, normalize=False)`"
   ]
  },
  {
   "cell_type": "code",
   "execution_count": 74,
   "id": "04176326-c195-4e08-acb0-79eb01c30f8e",
   "metadata": {},
   "outputs": [
    {
     "data": {
      "text/plain": [
       "0    1.0\n",
       "dtype: float64"
      ]
     },
     "execution_count": 74,
     "metadata": {},
     "output_type": "execute_result"
    }
   ],
   "source": [
    "# mode\n",
    "alcohol.mode()"
   ]
  },
  {
   "cell_type": "code",
   "execution_count": 75,
   "id": "35760b88-fd9f-49cb-8f7a-2d55d82a96c6",
   "metadata": {},
   "outputs": [
    {
     "data": {
      "text/plain": [
       "28.0"
      ]
     },
     "execution_count": 75,
     "metadata": {},
     "output_type": "execute_result"
    }
   ],
   "source": [
    "alcohol[alcohol==1].sum()"
   ]
  },
  {
   "cell_type": "code",
   "execution_count": 80,
   "id": "2d764702-6c43-4bcf-ac48-856b3bc086bb",
   "metadata": {},
   "outputs": [
    {
     "data": {
      "text/plain": [
       "28"
      ]
     },
     "execution_count": 80,
     "metadata": {},
     "output_type": "execute_result"
    }
   ],
   "source": [
    "# value_counts\n",
    "alcohol.value_counts().loc[1.0]"
   ]
  },
  {
   "cell_type": "code",
   "execution_count": 81,
   "id": "50ef632b-0bf4-457e-8efd-cba45a1064a3",
   "metadata": {},
   "outputs": [
    {
     "data": {
      "text/plain": [
       "28"
      ]
     },
     "execution_count": 81,
     "metadata": {},
     "output_type": "execute_result"
    }
   ],
   "source": [
    "alcohol.value_counts().iloc[0]"
   ]
  },
  {
   "cell_type": "code",
   "execution_count": 82,
   "id": "7eb18416-42b4-42d8-ab52-739206db32df",
   "metadata": {},
   "outputs": [
    {
     "data": {
      "text/plain": [
       "1.0      0.172840\n",
       "2.0      0.061728\n",
       "7.0      0.055556\n",
       "8.0      0.043210\n",
       "5.0      0.037037\n",
       "           ...   \n",
       "185.0    0.006173\n",
       "218.0    0.006173\n",
       "84.0     0.006173\n",
       "149.0    0.006173\n",
       "54.0     0.006173\n",
       "Name: wine_servings, Length: 71, dtype: float64"
      ]
     },
     "execution_count": 82,
     "metadata": {},
     "output_type": "execute_result"
    }
   ],
   "source": [
    "alcohol.value_counts(normalize=True)"
   ]
  },
  {
   "cell_type": "markdown",
   "id": "0a9011e9-fc19-47b9-ad3f-bc107d4c7d7b",
   "metadata": {
    "jp-MarkdownHeadingCollapsed": true,
    "tags": []
   },
   "source": [
    "## **`idxmax()` and `idxmin()`**"
   ]
  },
  {
   "cell_type": "markdown",
   "id": "de8adad7-d1c8-41a2-b599-89f777b702f9",
   "metadata": {},
   "source": [
    "* `idxmin()` returns the label of the row with minimum value\n",
    "* `idxmax()` returns the label of the row with maximum value\n",
    "\n",
    "**Note:** if multiple min/max values, only the label is returned"
   ]
  },
  {
   "cell_type": "code",
   "execution_count": 89,
   "id": "5d670fba-b805-4be9-9e72-317987bc6b59",
   "metadata": {},
   "outputs": [
    {
     "data": {
      "text/plain": [
       "'Portugal'"
      ]
     },
     "execution_count": 89,
     "metadata": {},
     "output_type": "execute_result"
    }
   ],
   "source": [
    "# idxmax()\n",
    "alcohol.idxmax()"
   ]
  },
  {
   "cell_type": "code",
   "execution_count": 90,
   "id": "91396e77-9d0b-40ba-acbd-75112f3321c8",
   "metadata": {},
   "outputs": [
    {
     "data": {
      "text/plain": [
       "country\n",
       "Portugal    339.0\n",
       "Name: wine_servings, dtype: float64"
      ]
     },
     "execution_count": 90,
     "metadata": {},
     "output_type": "execute_result"
    }
   ],
   "source": [
    "alcohol[alcohol==alcohol.max()]"
   ]
  },
  {
   "cell_type": "code",
   "execution_count": 91,
   "id": "415b53b9-0ec0-4c32-8076-173d5092c593",
   "metadata": {},
   "outputs": [
    {
     "data": {
      "text/plain": [
       "339.0"
      ]
     },
     "execution_count": 91,
     "metadata": {},
     "output_type": "execute_result"
    }
   ],
   "source": [
    "alcohol[alcohol==alcohol.max()].iloc[0]"
   ]
  },
  {
   "cell_type": "code",
   "execution_count": 92,
   "id": "1766589f-cd03-4545-b07f-e398dfffed2b",
   "metadata": {},
   "outputs": [
    {
     "data": {
      "text/plain": [
       "'Portugal'"
      ]
     },
     "execution_count": 92,
     "metadata": {},
     "output_type": "execute_result"
    }
   ],
   "source": [
    "alcohol[alcohol==alcohol.max()].index[0]"
   ]
  },
  {
   "cell_type": "code",
   "execution_count": 93,
   "id": "c7c56634-d167-43c9-a55f-d5c8557aade4",
   "metadata": {},
   "outputs": [
    {
     "data": {
      "text/plain": [
       "'Brunei'"
      ]
     },
     "execution_count": 93,
     "metadata": {},
     "output_type": "execute_result"
    }
   ],
   "source": [
    "alcohol.idxmin()"
   ]
  },
  {
   "cell_type": "code",
   "execution_count": 94,
   "id": "a3565085-5eb4-4cc5-8d56-9ea34447bd84",
   "metadata": {},
   "outputs": [
    {
     "data": {
      "text/plain": [
       "country\n",
       "Brunei                      1.0\n",
       "Cambodia                    1.0\n",
       "Canada                      1.0\n",
       "Central African Republic    1.0\n",
       "Chad                        1.0\n",
       "Comoros                     1.0\n",
       "DR Congo                    1.0\n",
       "Egypt                       1.0\n",
       "Fiji                        1.0\n",
       "Gambia                      1.0\n",
       "Ghana                       1.0\n",
       "Guyana                      1.0\n",
       "Haiti                       1.0\n",
       "Jordan                      1.0\n",
       "Kiribati                    1.0\n",
       "Malawi                      1.0\n",
       "Mali                        1.0\n",
       "Morocco                     1.0\n",
       "Namibia                     1.0\n",
       "Nicaragua                   1.0\n",
       "Niger                       1.0\n",
       "Oman                        1.0\n",
       "Papua New Guinea            1.0\n",
       "Philippines                 1.0\n",
       "Solomon Islands             1.0\n",
       "Thailand                    1.0\n",
       "Tanzania                    1.0\n",
       "Vietnam                     1.0\n",
       "Name: wine_servings, dtype: float64"
      ]
     },
     "execution_count": 94,
     "metadata": {},
     "output_type": "execute_result"
    }
   ],
   "source": [
    "alcohol[alcohol==alcohol.min()]"
   ]
  },
  {
   "cell_type": "markdown",
   "id": "76297d45-7acd-489d-83e2-26a55ef1d712",
   "metadata": {
    "jp-MarkdownHeadingCollapsed": true,
    "tags": []
   },
   "source": [
    "## **Sorting with `sort_values()`**"
   ]
  },
  {
   "cell_type": "code",
   "execution_count": 95,
   "id": "a116e959-1dc5-45bf-8e7b-2da2364c213f",
   "metadata": {},
   "outputs": [
    {
     "data": {
      "text/plain": [
       "country\n",
       "Thailand           1.0\n",
       "Solomon Islands    1.0\n",
       "Brunei             1.0\n",
       "Haiti              1.0\n",
       "Cambodia           1.0\n",
       "                  ... \n",
       "Sri Lanka          NaN\n",
       "Sudan              NaN\n",
       "Tajikistan         NaN\n",
       "Uganda             NaN\n",
       "Yemen              NaN\n",
       "Name: wine_servings, Length: 193, dtype: float64"
      ]
     },
     "execution_count": 95,
     "metadata": {},
     "output_type": "execute_result"
    }
   ],
   "source": [
    "alcohol.sort_values()"
   ]
  },
  {
   "cell_type": "code",
   "execution_count": 101,
   "id": "8dd7f2e9-a021-4281-a683-a19c27e6b7e9",
   "metadata": {},
   "outputs": [
    {
     "data": {
      "text/plain": [
       "country\n",
       "Portugal      339.0\n",
       "Andorra       312.0\n",
       "Denmark       278.0\n",
       "Slovenia      276.0\n",
       "Luxembourg    271.0\n",
       "              ...  \n",
       "Sri Lanka       NaN\n",
       "Sudan           NaN\n",
       "Tajikistan      NaN\n",
       "Uganda          NaN\n",
       "Yemen           NaN\n",
       "Name: wine_servings, Length: 193, dtype: float64"
      ]
     },
     "execution_count": 101,
     "metadata": {},
     "output_type": "execute_result"
    }
   ],
   "source": [
    "alcohol.sort_values(ascending=False)"
   ]
  },
  {
   "cell_type": "code",
   "execution_count": 103,
   "id": "c1af789b-e66d-4fc3-99cc-b1e6cae6b6d4",
   "metadata": {},
   "outputs": [
    {
     "data": {
      "text/plain": [
       "country\n",
       "Portugal      339.0\n",
       "Andorra       312.0\n",
       "Denmark       278.0\n",
       "Slovenia      276.0\n",
       "Luxembourg    271.0\n",
       "              ...  \n",
       "Sri Lanka       NaN\n",
       "Sudan           NaN\n",
       "Tajikistan      NaN\n",
       "Uganda          NaN\n",
       "Yemen           NaN\n",
       "Name: wine_servings, Length: 193, dtype: float64"
      ]
     },
     "execution_count": 103,
     "metadata": {},
     "output_type": "execute_result"
    }
   ],
   "source": [
    "alcohol.sort_values(ascending=False, na_position='last', kind='quickstart') #mergesort, heapsort"
   ]
  },
  {
   "cell_type": "markdown",
   "id": "638ce1fc-e99b-4f66-92b5-223bfdc32183",
   "metadata": {
    "jp-MarkdownHeadingCollapsed": true,
    "tags": []
   },
   "source": [
    "## **`nlargest()` and `nsmallest()`**"
   ]
  },
  {
   "cell_type": "code",
   "execution_count": 105,
   "id": "7057ff8b-eb01-49f1-b0b4-d229ab016e8b",
   "metadata": {},
   "outputs": [
    {
     "data": {
      "text/plain": [
       "country\n",
       "Portugal             339.0\n",
       "Andorra              312.0\n",
       "Denmark              278.0\n",
       "Slovenia             276.0\n",
       "Luxembourg           271.0\n",
       "Croatia              254.0\n",
       "Italy                237.0\n",
       "Equatorial Guinea    233.0\n",
       "Argentina            221.0\n",
       "Greece               218.0\n",
       "Name: wine_servings, dtype: float64"
      ]
     },
     "execution_count": 105,
     "metadata": {},
     "output_type": "execute_result"
    }
   ],
   "source": [
    "# nlargest()\n",
    "alcohol.nlargest(n=10)"
   ]
  },
  {
   "cell_type": "code",
   "execution_count": 106,
   "id": "5b348215-ab69-43b1-928c-6ca0e20f4722",
   "metadata": {},
   "outputs": [
    {
     "data": {
      "text/plain": [
       "country\n",
       "Portugal             339.0\n",
       "Andorra              312.0\n",
       "Denmark              278.0\n",
       "Slovenia             276.0\n",
       "Luxembourg           271.0\n",
       "Croatia              254.0\n",
       "Italy                237.0\n",
       "Equatorial Guinea    233.0\n",
       "Argentina            221.0\n",
       "Greece               218.0\n",
       "Name: wine_servings, dtype: float64"
      ]
     },
     "execution_count": 106,
     "metadata": {},
     "output_type": "execute_result"
    }
   ],
   "source": [
    "alcohol.sort_values(ascending=False)[:10]"
   ]
  },
  {
   "cell_type": "code",
   "execution_count": 107,
   "id": "10738711-db1e-4480-91fb-eade905cd2f4",
   "metadata": {},
   "outputs": [
    {
     "data": {
      "text/plain": [
       "country\n",
       "Brunei                      1.0\n",
       "Cambodia                    1.0\n",
       "Canada                      1.0\n",
       "Central African Republic    1.0\n",
       "Chad                        1.0\n",
       "Comoros                     1.0\n",
       "DR Congo                    1.0\n",
       "Egypt                       1.0\n",
       "Fiji                        1.0\n",
       "Gambia                      1.0\n",
       "Name: wine_servings, dtype: float64"
      ]
     },
     "execution_count": 107,
     "metadata": {},
     "output_type": "execute_result"
    }
   ],
   "source": [
    "alcohol.nsmallest(n=10)"
   ]
  },
  {
   "cell_type": "code",
   "execution_count": 108,
   "id": "a57505d4-75bb-478f-869f-9cda1b67d0e0",
   "metadata": {},
   "outputs": [
    {
     "data": {
      "text/plain": [
       "country\n",
       "Thailand                    1.0\n",
       "Solomon Islands             1.0\n",
       "Brunei                      1.0\n",
       "Haiti                       1.0\n",
       "Cambodia                    1.0\n",
       "Guyana                      1.0\n",
       "Canada                      1.0\n",
       "Jordan                      1.0\n",
       "Central African Republic    1.0\n",
       "Comoros                     1.0\n",
       "Name: wine_servings, dtype: float64"
      ]
     },
     "execution_count": 108,
     "metadata": {},
     "output_type": "execute_result"
    }
   ],
   "source": [
    "alcohol.sort_values(ascending=True)[:10]"
   ]
  },
  {
   "cell_type": "markdown",
   "id": "692aac71-9e21-4c7e-aa43-2717bc9180ac",
   "metadata": {},
   "source": [
    "## **Sorting with `sort_index()`**"
   ]
  },
  {
   "cell_type": "markdown",
   "id": "7f7f53de-6c3a-44ae-abda-f09addeedfe2",
   "metadata": {},
   "source": [
    "* `sort_values()` returns a new series, sorted by values\n",
    "* `sort_index()` returns a new series, sorted by index labels\n",
    "\n",
    "**Default Params:** `ascending=True, inplace=False, na_position=='last', kind='quicksort'`"
   ]
  },
  {
   "cell_type": "code",
   "execution_count": 109,
   "id": "5db1cf63-a63a-4b54-8b7a-c884d32e1cf6",
   "metadata": {},
   "outputs": [
    {
     "data": {
      "text/plain": [
       "country\n",
       "Afghanistan      NaN\n",
       "Albania         54.0\n",
       "Algeria         14.0\n",
       "Andorra        312.0\n",
       "Angola          45.0\n",
       "Name: wine_servings, dtype: float64"
      ]
     },
     "execution_count": 109,
     "metadata": {},
     "output_type": "execute_result"
    }
   ],
   "source": [
    "alcohol.head()"
   ]
  },
  {
   "cell_type": "code",
   "execution_count": 112,
   "id": "b884a443-9a11-4440-8828-4e489b7530fb",
   "metadata": {},
   "outputs": [
    {
     "data": {
      "text/plain": [
       "country\n",
       "Zimbabwe         4.0\n",
       "Zambia           4.0\n",
       "Yemen            NaN\n",
       "Vietnam          1.0\n",
       "Venezuela        3.0\n",
       "               ...  \n",
       "Angola          45.0\n",
       "Andorra        312.0\n",
       "Algeria         14.0\n",
       "Albania         54.0\n",
       "Afghanistan      NaN\n",
       "Name: wine_servings, Length: 193, dtype: float64"
      ]
     },
     "execution_count": 112,
     "metadata": {},
     "output_type": "execute_result"
    }
   ],
   "source": [
    "alcohol.sort_index(ascending=False, na_position='first')"
   ]
  },
  {
   "cell_type": "code",
   "execution_count": 114,
   "id": "c0fe624e-4ef1-4e93-96ce-f8b4f71815aa",
   "metadata": {},
   "outputs": [
    {
     "data": {
      "text/plain": [
       "country\n",
       "Portugal      339.0\n",
       "Andorra       312.0\n",
       "Denmark       278.0\n",
       "Slovenia      276.0\n",
       "Luxembourg    271.0\n",
       "              ...  \n",
       "Sri Lanka       NaN\n",
       "Sudan           NaN\n",
       "Tajikistan      NaN\n",
       "Uganda          NaN\n",
       "Yemen           NaN\n",
       "Name: wine_servings, Length: 193, dtype: float64"
      ]
     },
     "execution_count": 114,
     "metadata": {},
     "output_type": "execute_result"
    }
   ],
   "source": [
    "alcohol.sort_values(ascending=False, na_position='last')"
   ]
  },
  {
   "cell_type": "markdown",
   "id": "f3ca9a42-a82b-40fd-975a-3314b2cb10bd",
   "metadata": {},
   "source": [
    "## **Skill Challenge**"
   ]
  },
  {
   "cell_type": "code",
   "execution_count": 123,
   "id": "0ad3b651-aeee-40e4-bc73-5b3e08335940",
   "metadata": {},
   "outputs": [
    {
     "data": {
      "text/plain": [
       "48"
      ]
     },
     "execution_count": 123,
     "metadata": {},
     "output_type": "execute_result"
    }
   ],
   "source": [
    "fifty_plus = alcohol.loc[alcohol>50]\n",
    "fifty_plus.size"
   ]
  },
  {
   "cell_type": "code",
   "execution_count": 117,
   "id": "94635b7d-bf2d-4338-b669-1b1d4fcff873",
   "metadata": {},
   "outputs": [],
   "source": [
    "sample= fifty_plus.nsmallest(20)"
   ]
  },
  {
   "cell_type": "code",
   "execution_count": 119,
   "id": "8a1dca73-2fbd-4f44-acb4-e1b9d2a5fbe7",
   "metadata": {},
   "outputs": [
    {
     "data": {
      "text/plain": [
       "(74.25, 73.5, 19.07292100831631)"
      ]
     },
     "execution_count": 119,
     "metadata": {},
     "output_type": "execute_result"
    }
   ],
   "source": [
    "sample.mean(), sample.median(), sample.std()"
   ]
  },
  {
   "cell_type": "code",
   "execution_count": 121,
   "id": "f0a0bd5a-3e96-4198-b39e-ca712f331090",
   "metadata": {},
   "outputs": [
    {
     "data": {
      "text/plain": [
       "73.5"
      ]
     },
     "execution_count": 121,
     "metadata": {},
     "output_type": "execute_result"
    }
   ],
   "source": [
    "# Other way to calculate the median\n",
    "sample.quantile(.50)"
   ]
  },
  {
   "cell_type": "markdown",
   "id": "854294cf-6881-492e-9b7e-b481bf5cb5ef",
   "metadata": {},
   "source": [
    "## **Series Arithmentic and `fill_values()`**"
   ]
  },
  {
   "cell_type": "code",
   "execution_count": null,
   "id": "fe832b77-ad1f-4322-9cb2-c93e7341358a",
   "metadata": {},
   "outputs": [],
   "source": []
  }
 ],
 "metadata": {
  "kernelspec": {
   "display_name": "Python 3.7.6 64-bit ('base': conda)",
   "language": "python",
   "name": "python37664bitbaseconda5886391542a846ba87cc0afba13a0ed2"
  },
  "language_info": {
   "codemirror_mode": {
    "name": "ipython",
    "version": 3
   },
   "file_extension": ".py",
   "mimetype": "text/x-python",
   "name": "python",
   "nbconvert_exporter": "python",
   "pygments_lexer": "ipython3",
   "version": "3.7.6"
  }
 },
 "nbformat": 4,
 "nbformat_minor": 5
}
