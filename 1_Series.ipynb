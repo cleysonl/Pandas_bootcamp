{
 "cells": [
  {
   "cell_type": "markdown",
   "id": "195852c5-fff6-45a8-997d-6ef47d78577c",
   "metadata": {
    "tags": []
   },
   "source": [
    "# **1. Series**"
   ]
  },
  {
   "cell_type": "markdown",
   "id": "8721d004-3f68-4159-9689-3c785a030fc2",
   "metadata": {
    "jp-MarkdownHeadingCollapsed": true,
    "tags": []
   },
   "source": [
    "## **Intro**"
   ]
  },
  {
   "cell_type": "code",
   "execution_count": 2,
   "id": "aa2fdb10-fa48-4840-a5c7-e543c658c75b",
   "metadata": {},
   "outputs": [],
   "source": [
    "import pandas as pd"
   ]
  },
  {
   "cell_type": "code",
   "execution_count": 23,
   "id": "d2599a58-6ed6-461c-b2d4-a4cf166e0345",
   "metadata": {},
   "outputs": [],
   "source": [
    "books_dict ={0 :'hello', 1:'bye'}"
   ]
  },
  {
   "cell_type": "code",
   "execution_count": 28,
   "id": "dabe1bd3-4321-4573-b694-bbd1c249c923",
   "metadata": {},
   "outputs": [
    {
     "data": {
      "text/plain": [
       "0    hello\n",
       "1      bye\n",
       "dtype: object"
      ]
     },
     "execution_count": 28,
     "metadata": {},
     "output_type": "execute_result"
    }
   ],
   "source": [
    "dict_s=pd.Series(books_dict)\n",
    "dict_s"
   ]
  },
  {
   "cell_type": "code",
   "execution_count": 29,
   "id": "d9b0ba7c-8585-481e-a65c-300051b50257",
   "metadata": {},
   "outputs": [
    {
     "data": {
      "text/plain": [
       "0    hello\n",
       "1      bye\n",
       "dtype: object"
      ]
     },
     "execution_count": 29,
     "metadata": {},
     "output_type": "execute_result"
    }
   ],
   "source": [
    "books_list = ['hello','bye']\n",
    "list_s=pd.Series(books_list)\n",
    "list_s"
   ]
  },
  {
   "cell_type": "code",
   "execution_count": 30,
   "id": "26a6bc66-1a42-406c-8813-44c976645f53",
   "metadata": {},
   "outputs": [
    {
     "data": {
      "text/plain": [
       "True"
      ]
     },
     "execution_count": 30,
     "metadata": {},
     "output_type": "execute_result"
    }
   ],
   "source": [
    "list_s.equals(dict_s)"
   ]
  },
  {
   "cell_type": "code",
   "execution_count": 31,
   "id": "a06bec00-6ce9-4636-82b1-606acc14e611",
   "metadata": {},
   "outputs": [
    {
     "data": {
      "text/plain": [
       "0    24\n",
       "1    23\n",
       "2    22\n",
       "dtype: int64"
      ]
     },
     "execution_count": 31,
     "metadata": {},
     "output_type": "execute_result"
    }
   ],
   "source": [
    "# You can define the data type of the series that you want\n",
    "ages = [24,23,22]\n",
    "pd.Series(ages)"
   ]
  },
  {
   "cell_type": "code",
   "execution_count": 33,
   "id": "7c9fb6a3-2cb0-4dc6-9bbf-a0720691825f",
   "metadata": {},
   "outputs": [],
   "source": [
    "ages_s = pd.Series(ages, dtype='float')"
   ]
  },
  {
   "cell_type": "code",
   "execution_count": 34,
   "id": "4902f3bd-a59f-4d82-87cc-7d8be220aaa2",
   "metadata": {},
   "outputs": [
    {
     "data": {
      "text/plain": [
       "dtype('float64')"
      ]
     },
     "execution_count": 34,
     "metadata": {},
     "output_type": "execute_result"
    }
   ],
   "source": [
    "ages_s.dtype"
   ]
  },
  {
   "cell_type": "markdown",
   "id": "6d1d9af8-67aa-483b-84a8-a4aa96c36660",
   "metadata": {
    "tags": []
   },
   "source": [
    "## **Index and RangeIndex**"
   ]
  },
  {
   "cell_type": "code",
   "execution_count": 3,
   "id": "dba00b54-6257-450a-9021-3e24ad0a7c60",
   "metadata": {},
   "outputs": [],
   "source": [
    "books_list = ['Fooled by Randomness', 'Sapiens', 'Lenin on the Train']"
   ]
  },
  {
   "cell_type": "code",
   "execution_count": 4,
   "id": "4aa9b2ef-4f9d-4ccb-8b4f-20ec224de12a",
   "metadata": {},
   "outputs": [],
   "source": [
    "list_s = pd.Series(books_list)"
   ]
  },
  {
   "cell_type": "code",
   "execution_count": 5,
   "id": "e1d947e2-d2db-46d9-8e8d-ca757efd47ec",
   "metadata": {},
   "outputs": [
    {
     "data": {
      "text/plain": [
       "0    Fooled by Randomness\n",
       "1                 Sapiens\n",
       "2      Lenin on the Train\n",
       "dtype: object"
      ]
     },
     "execution_count": 5,
     "metadata": {},
     "output_type": "execute_result"
    }
   ],
   "source": [
    "list_s"
   ]
  },
  {
   "cell_type": "code",
   "execution_count": 10,
   "id": "8ba6bedc-f83b-40df-9841-9afea0126ee8",
   "metadata": {},
   "outputs": [
    {
     "data": {
      "text/plain": [
       "funny                  Fooled by Randomness\n",
       "serious and amusing                 Sapiens\n",
       "kind of interesting      Lenin on the Train\n",
       "dtype: string"
      ]
     },
     "execution_count": 10,
     "metadata": {},
     "output_type": "execute_result"
    }
   ],
   "source": [
    "pd.Series(data=books_list, index=['funny', 'serious and amusing', 'kind of interesting'], dtype='string')"
   ]
  },
  {
   "cell_type": "code",
   "execution_count": 11,
   "id": "6e796bd4-e20c-49b3-8775-82c4be26a4a2",
   "metadata": {},
   "outputs": [
    {
     "data": {
      "text/plain": [
       "'1.0.1'"
      ]
     },
     "execution_count": 11,
     "metadata": {},
     "output_type": "execute_result"
    }
   ],
   "source": [
    "pd.__version__"
   ]
  },
  {
   "cell_type": "code",
   "execution_count": 12,
   "id": "2c66ad05-179d-4e8f-9dfc-2a392df1da3f",
   "metadata": {},
   "outputs": [
    {
     "data": {
      "text/plain": [
       "RangeIndex(start=0, stop=3, step=1)"
      ]
     },
     "execution_count": 12,
     "metadata": {},
     "output_type": "execute_result"
    }
   ],
   "source": [
    "list_s.index"
   ]
  },
  {
   "cell_type": "code",
   "execution_count": 13,
   "id": "f412bbe3-37e8-4bca-bc78-9764e22e29ad",
   "metadata": {},
   "outputs": [
    {
     "data": {
      "text/plain": [
       "pandas.core.indexes.range.RangeIndex"
      ]
     },
     "execution_count": 13,
     "metadata": {},
     "output_type": "execute_result"
    }
   ],
   "source": [
    "type(list_s.index)"
   ]
  },
  {
   "cell_type": "code",
   "execution_count": 14,
   "id": "a17d372a-b101-499e-acab-f0bfaadc075d",
   "metadata": {},
   "outputs": [
    {
     "data": {
      "text/plain": [
       "[4, 5, 6]"
      ]
     },
     "execution_count": 14,
     "metadata": {},
     "output_type": "execute_result"
    }
   ],
   "source": [
    "list(pd.RangeIndex(start=4, stop=7, step=1))"
   ]
  },
  {
   "cell_type": "code",
   "execution_count": 17,
   "id": "5a7e18b6-aaf7-4c95-9413-d58957edef2f",
   "metadata": {},
   "outputs": [
    {
     "data": {
      "text/plain": [
       "[10, 9, 8, 7, 6, 5, 4, 3, 2, 1, 0, -1, -2, -3, -4, -5, -6, -7, -8, -9, -10]"
      ]
     },
     "execution_count": 17,
     "metadata": {},
     "output_type": "execute_result"
    }
   ],
   "source": [
    "# Immutable object for performance optimization\n",
    "list(pd.RangeIndex(start=10, stop=-11, step=-1))"
   ]
  },
  {
   "cell_type": "markdown",
   "id": "6960bafd-4c6e-4208-bc34-90a753a361f4",
   "metadata": {
    "jp-MarkdownHeadingCollapsed": true,
    "tags": []
   },
   "source": [
    "## **Series and Index Names**"
   ]
  },
  {
   "cell_type": "code",
   "execution_count": 18,
   "id": "19acd5ff-49a8-430f-a7c2-fdaf42a458f9",
   "metadata": {},
   "outputs": [],
   "source": [
    "book_series = list_s"
   ]
  },
  {
   "cell_type": "code",
   "execution_count": 19,
   "id": "cc5d4eb9-60ce-4312-9c36-2e142aa3d598",
   "metadata": {},
   "outputs": [
    {
     "data": {
      "text/plain": [
       "0    Fooled by Randomness\n",
       "1                 Sapiens\n",
       "2      Lenin on the Train\n",
       "dtype: object"
      ]
     },
     "execution_count": 19,
     "metadata": {},
     "output_type": "execute_result"
    }
   ],
   "source": [
    "book_series"
   ]
  },
  {
   "cell_type": "code",
   "execution_count": 20,
   "id": "e8251990-8e82-4879-9d83-8ce26f4923e8",
   "metadata": {},
   "outputs": [
    {
     "data": {
      "text/plain": [
       "3"
      ]
     },
     "execution_count": 20,
     "metadata": {},
     "output_type": "execute_result"
    }
   ],
   "source": [
    "book_series.size"
   ]
  },
  {
   "cell_type": "markdown",
   "id": "b993751a-0108-48c4-9246-32fc831cfc19",
   "metadata": {},
   "source": [
    "* **Method** is a function bound to the object\n",
    "* **Attribute** is a variable bound to the object"
   ]
  },
  {
   "cell_type": "code",
   "execution_count": 21,
   "id": "fb6701e2-3e29-4152-b6ba-2b1d4584a606",
   "metadata": {},
   "outputs": [],
   "source": [
    "dict_books = {0:'Fooled by Randomness', 1:'Sapiens', 2:'Lenin on the Train'}\n",
    "dict_s = pd.Series(dict_books)"
   ]
  },
  {
   "cell_type": "code",
   "execution_count": 24,
   "id": "3de4b3fa-6ff6-4fa0-80a4-d6ee5cceb1be",
   "metadata": {},
   "outputs": [
    {
     "data": {
      "text/plain": [
       "True"
      ]
     },
     "execution_count": 24,
     "metadata": {},
     "output_type": "execute_result"
    }
   ],
   "source": [
    "# Method\n",
    "list_s.equals(dict_s)"
   ]
  },
  {
   "cell_type": "code",
   "execution_count": 25,
   "id": "873d7dee-8b79-4200-8f38-ef7f942cc34b",
   "metadata": {},
   "outputs": [
    {
     "data": {
      "text/plain": [
       "dtype('O')"
      ]
     },
     "execution_count": 25,
     "metadata": {},
     "output_type": "execute_result"
    }
   ],
   "source": [
    "# Attribute\n",
    "list_s.dtype"
   ]
  },
  {
   "cell_type": "code",
   "execution_count": 27,
   "id": "4fa523f5-b956-4504-9581-85ef34436569",
   "metadata": {},
   "outputs": [],
   "source": [
    "book_series.name"
   ]
  },
  {
   "cell_type": "code",
   "execution_count": 29,
   "id": "c205d8ad-09ae-4a68-aa24-ba9ac4d2a120",
   "metadata": {},
   "outputs": [
    {
     "data": {
      "text/plain": [
       "True"
      ]
     },
     "execution_count": 29,
     "metadata": {},
     "output_type": "execute_result"
    }
   ],
   "source": [
    "book_series.name == None"
   ]
  },
  {
   "cell_type": "code",
   "execution_count": 30,
   "id": "9cd22c69-2092-44cb-a0f9-343e009284a1",
   "metadata": {},
   "outputs": [],
   "source": [
    "book_series.name = 'my favorite books'"
   ]
  },
  {
   "cell_type": "code",
   "execution_count": 31,
   "id": "f97f0b0e-04b5-47c1-9913-9aad595097ff",
   "metadata": {},
   "outputs": [
    {
     "data": {
      "text/plain": [
       "0    Fooled by Randomness\n",
       "1                 Sapiens\n",
       "2      Lenin on the Train\n",
       "Name: my favorite books, dtype: object"
      ]
     },
     "execution_count": 31,
     "metadata": {},
     "output_type": "execute_result"
    }
   ],
   "source": [
    "book_series"
   ]
  },
  {
   "cell_type": "code",
   "execution_count": 33,
   "id": "7a8c4cbc-d75e-4f1c-b1e7-32a6ea53006e",
   "metadata": {},
   "outputs": [],
   "source": [
    "book_series.index.name"
   ]
  },
  {
   "cell_type": "code",
   "execution_count": 34,
   "id": "e83ce1a4-909a-4f5c-9004-8c3653f990d0",
   "metadata": {},
   "outputs": [
    {
     "data": {
      "text/plain": [
       "True"
      ]
     },
     "execution_count": 34,
     "metadata": {},
     "output_type": "execute_result"
    }
   ],
   "source": [
    "book_series.index.name == None"
   ]
  },
  {
   "cell_type": "code",
   "execution_count": 37,
   "id": "c4fe7b12-6147-448a-b49e-f79d923d2fbc",
   "metadata": {},
   "outputs": [],
   "source": [
    "book_series.index.name = 'My books'"
   ]
  },
  {
   "cell_type": "code",
   "execution_count": 38,
   "id": "b97b4725-0345-4121-9d75-74570d313b14",
   "metadata": {},
   "outputs": [
    {
     "data": {
      "text/plain": [
       "My books\n",
       "0    Fooled by Randomness\n",
       "1                 Sapiens\n",
       "2      Lenin on the Train\n",
       "Name: my favorite books, dtype: object"
      ]
     },
     "execution_count": 38,
     "metadata": {},
     "output_type": "execute_result"
    }
   ],
   "source": [
    "book_series"
   ]
  },
  {
   "cell_type": "markdown",
   "id": "c8ce96db-6797-403c-8086-e7362ddc23d1",
   "metadata": {
    "jp-MarkdownHeadingCollapsed": true,
    "tags": []
   },
   "source": [
    "## **Skill Challenge**"
   ]
  },
  {
   "cell_type": "code",
   "execution_count": 40,
   "id": "b96471c7-3263-4b4a-b599-7035688302a7",
   "metadata": {},
   "outputs": [],
   "source": [
    "actor_name = ['Leo', 'Jared', 'Julia', 'Daniel']"
   ]
  },
  {
   "cell_type": "code",
   "execution_count": 41,
   "id": "fb8ecfb0-faf2-4598-9a9d-4acf2f6b6918",
   "metadata": {},
   "outputs": [],
   "source": [
    "actor_ages = [35, 40, 49, 59]"
   ]
  },
  {
   "cell_type": "code",
   "execution_count": 56,
   "id": "e227c0ec-0f8f-4446-908c-59ea2d866a84",
   "metadata": {},
   "outputs": [],
   "source": [
    "actors = pd.Series(actor_ages, index=actor_name, name='actors')"
   ]
  },
  {
   "cell_type": "code",
   "execution_count": 57,
   "id": "83cb10ad-bb27-4c48-9f65-012a01355b4e",
   "metadata": {},
   "outputs": [
    {
     "data": {
      "text/plain": [
       "Leo       35\n",
       "Jared     40\n",
       "Julia     49\n",
       "Daniel    59\n",
       "Name: actors, dtype: int64"
      ]
     },
     "execution_count": 57,
     "metadata": {},
     "output_type": "execute_result"
    }
   ],
   "source": [
    "actors"
   ]
  },
  {
   "cell_type": "code",
   "execution_count": 62,
   "id": "c2165577-1a0e-4de3-8f51-de62b0ca9d40",
   "metadata": {},
   "outputs": [],
   "source": [
    "dict_actors =dict(zip(actor_name, actor_ages))"
   ]
  },
  {
   "cell_type": "code",
   "execution_count": 64,
   "id": "20fba23b-9ed2-443f-a6ae-8990ce9a2a02",
   "metadata": {},
   "outputs": [
    {
     "data": {
      "text/plain": [
       "Leo       35\n",
       "Jared     40\n",
       "Julia     49\n",
       "Daniel    59\n",
       "Name: actors, dtype: int64"
      ]
     },
     "execution_count": 64,
     "metadata": {},
     "output_type": "execute_result"
    }
   ],
   "source": [
    "pd.Series(dict_actors, name='actors')"
   ]
  },
  {
   "cell_type": "code",
   "execution_count": 68,
   "id": "8aaf9a00-0968-4617-bb61-3e5e19d43e5d",
   "metadata": {},
   "outputs": [
    {
     "data": {
      "text/plain": [
       "Leo       35\n",
       "Jared     40\n",
       "Julia     49\n",
       "Daniel    59\n",
       "Name: actors, dtype: int64"
      ]
     },
     "execution_count": 68,
     "metadata": {},
     "output_type": "execute_result"
    }
   ],
   "source": [
    "pd.Series({name:age for name, age in zip(actor_name, actor_ages)}, name='actors')"
   ]
  },
  {
   "cell_type": "markdown",
   "id": "0355add6-85ee-4c45-817d-437f32afb328",
   "metadata": {
    "jp-MarkdownHeadingCollapsed": true,
    "tags": []
   },
   "source": [
    "## **The head() and tail() Methods**"
   ]
  },
  {
   "cell_type": "code",
   "execution_count": 72,
   "id": "679665c0-87cc-4090-be02-37363f005c9d",
   "metadata": {},
   "outputs": [],
   "source": [
    "int_series=pd.Series(range(0,60));"
   ]
  },
  {
   "cell_type": "code",
   "execution_count": 73,
   "id": "cffc925d-5472-4b79-9f3b-8af664b2c388",
   "metadata": {},
   "outputs": [
    {
     "data": {
      "text/plain": [
       "60"
      ]
     },
     "execution_count": 73,
     "metadata": {},
     "output_type": "execute_result"
    }
   ],
   "source": [
    "int_series.size"
   ]
  },
  {
   "cell_type": "code",
   "execution_count": 74,
   "id": "72654089-7b92-4275-b366-bea511ccadae",
   "metadata": {},
   "outputs": [
    {
     "data": {
      "text/plain": [
       "60"
      ]
     },
     "execution_count": 74,
     "metadata": {},
     "output_type": "execute_result"
    }
   ],
   "source": [
    "len(int_series)"
   ]
  },
  {
   "cell_type": "code",
   "execution_count": 80,
   "id": "f044f985-60fc-4329-b222-365538ae0774",
   "metadata": {},
   "outputs": [],
   "source": [
    "# Min number of rows to show everytime we want to display a pd.Series \n",
    "pd.options.display.min_rows=10"
   ]
  },
  {
   "cell_type": "code",
   "execution_count": 81,
   "id": "8d13e96a-b87f-4dc7-98e0-6865635e2647",
   "metadata": {},
   "outputs": [
    {
     "data": {
      "text/plain": [
       "0    0\n",
       "1    1\n",
       "2    2\n",
       "3    3\n",
       "4    4\n",
       "dtype: int64"
      ]
     },
     "execution_count": 81,
     "metadata": {},
     "output_type": "execute_result"
    }
   ],
   "source": [
    "int_series.head()"
   ]
  },
  {
   "cell_type": "code",
   "execution_count": 83,
   "id": "0468ddd0-b7ea-49bc-940c-cb2b977b8e1b",
   "metadata": {},
   "outputs": [
    {
     "data": {
      "text/plain": [
       "50    50\n",
       "51    51\n",
       "52    52\n",
       "53    53\n",
       "54    54\n",
       "55    55\n",
       "56    56\n",
       "57    57\n",
       "58    58\n",
       "59    59\n",
       "dtype: int64"
      ]
     },
     "execution_count": 83,
     "metadata": {},
     "output_type": "execute_result"
    }
   ],
   "source": [
    "int_series.tail(10)"
   ]
  },
  {
   "cell_type": "code",
   "execution_count": 84,
   "id": "eb37daae-e984-4dfc-b978-ed52cb4d7bcb",
   "metadata": {},
   "outputs": [
    {
     "data": {
      "text/plain": [
       "0    0\n",
       "1    1\n",
       "2    2\n",
       "3    3\n",
       "4    4\n",
       "5    5\n",
       "6    6\n",
       "7    7\n",
       "8    8\n",
       "9    9\n",
       "dtype: int64"
      ]
     },
     "execution_count": 84,
     "metadata": {},
     "output_type": "execute_result"
    }
   ],
   "source": [
    "int_series.head(10)"
   ]
  },
  {
   "cell_type": "code",
   "execution_count": 82,
   "id": "0324fbc7-b128-48c3-b824-0295fbd7dcd2",
   "metadata": {},
   "outputs": [
    {
     "data": {
      "text/plain": [
       "0      0\n",
       "1      1\n",
       "2      2\n",
       "3      3\n",
       "4      4\n",
       "      ..\n",
       "95    95\n",
       "96    96\n",
       "97    97\n",
       "98    98\n",
       "99    99\n",
       "Length: 100, dtype: int64"
      ]
     },
     "execution_count": 82,
     "metadata": {},
     "output_type": "execute_result"
    }
   ],
   "source": [
    "pd.Series(range(100))"
   ]
  },
  {
   "cell_type": "markdown",
   "id": "ae44ec2e-aecb-4228-8dde-730d09726fa1",
   "metadata": {
    "jp-MarkdownHeadingCollapsed": true,
    "tags": []
   },
   "source": [
    "## **Extracting by Index Position**"
   ]
  },
  {
   "cell_type": "code",
   "execution_count": 85,
   "id": "d7d1f653-b807-43bc-8811-b67011ab3a3f",
   "metadata": {},
   "outputs": [],
   "source": [
    "from string import ascii_lowercase"
   ]
  },
  {
   "cell_type": "code",
   "execution_count": 86,
   "id": "53200e5a-2c74-4e06-a76a-4827dc4d5374",
   "metadata": {},
   "outputs": [
    {
     "data": {
      "text/plain": [
       "'abcdefghijklmnopqrstuvwxyz'"
      ]
     },
     "execution_count": 86,
     "metadata": {},
     "output_type": "execute_result"
    }
   ],
   "source": [
    "ascii_lowercase"
   ]
  },
  {
   "cell_type": "code",
   "execution_count": 90,
   "id": "0b12eb1f-ac3d-418c-a19d-6d7d9049fe5e",
   "metadata": {},
   "outputs": [],
   "source": [
    "letters=list(ascii_lowercase)"
   ]
  },
  {
   "cell_type": "code",
   "execution_count": 91,
   "id": "a46944ed-f974-4570-9f29-69bec97feca7",
   "metadata": {},
   "outputs": [],
   "source": [
    "alphabet = pd.Series(letters)"
   ]
  },
  {
   "cell_type": "code",
   "execution_count": 92,
   "id": "5801054c-f9f5-4d66-8b55-03385464cd4b",
   "metadata": {},
   "outputs": [
    {
     "data": {
      "text/plain": [
       "0    a\n",
       "1    b\n",
       "2    c\n",
       "3    d\n",
       "4    e\n",
       "5    f\n",
       "dtype: object"
      ]
     },
     "execution_count": 92,
     "metadata": {},
     "output_type": "execute_result"
    }
   ],
   "source": [
    "alphabet[:6]"
   ]
  },
  {
   "cell_type": "markdown",
   "id": "640b54b2-5e62-4ed2-8381-ae6fc8ebac62",
   "metadata": {
    "jp-MarkdownHeadingCollapsed": true,
    "tags": []
   },
   "source": [
    "## **Accessing Elements By Label**"
   ]
  },
  {
   "cell_type": "code",
   "execution_count": 93,
   "id": "1d6f9ddc-013f-4a49-a835-3bf706840d26",
   "metadata": {},
   "outputs": [],
   "source": [
    "from string import ascii_uppercase"
   ]
  },
  {
   "cell_type": "code",
   "execution_count": 96,
   "id": "d89d3e4b-0fb2-4860-9bb8-e98a0ec5c06b",
   "metadata": {},
   "outputs": [],
   "source": [
    "labeled_alphabet = pd.Series(list(ascii_lowercase), index=map(lambda x: 'label_' + x, list(ascii_uppercase)))"
   ]
  },
  {
   "cell_type": "code",
   "execution_count": 97,
   "id": "fcc0f7c6-4f24-48e6-a5b6-c8f85a7962c2",
   "metadata": {},
   "outputs": [
    {
     "data": {
      "text/plain": [
       "label_A    a\n",
       "label_B    b\n",
       "label_C    c\n",
       "label_D    d\n",
       "label_E    e\n",
       "label_F    f\n",
       "label_G    g\n",
       "label_H    h\n",
       "label_I    i\n",
       "label_J    j\n",
       "dtype: object"
      ]
     },
     "execution_count": 97,
     "metadata": {},
     "output_type": "execute_result"
    }
   ],
   "source": [
    "labeled_alphabet.head(10)"
   ]
  },
  {
   "cell_type": "code",
   "execution_count": 99,
   "id": "47888639-d258-4492-8f21-2ed484ca69fd",
   "metadata": {},
   "outputs": [
    {
     "data": {
      "text/plain": [
       "'a'"
      ]
     },
     "execution_count": 99,
     "metadata": {},
     "output_type": "execute_result"
    }
   ],
   "source": [
    "labeled_alphabet['label_A']"
   ]
  },
  {
   "cell_type": "code",
   "execution_count": 100,
   "id": "fe54e9ff-b43f-41a8-b12f-88291e087a1d",
   "metadata": {},
   "outputs": [
    {
     "data": {
      "text/plain": [
       "label_A    a\n",
       "label_B    b\n",
       "label_C    c\n",
       "dtype: object"
      ]
     },
     "execution_count": 100,
     "metadata": {},
     "output_type": "execute_result"
    }
   ],
   "source": [
    "labeled_alphabet[:'label_C']"
   ]
  },
  {
   "cell_type": "code",
   "execution_count": 101,
   "id": "87f0e7c7-d2d6-4133-a792-ea6005318529",
   "metadata": {},
   "outputs": [
    {
     "data": {
      "text/plain": [
       "label_A    a\n",
       "label_B    b\n",
       "label_C    c\n",
       "dtype: object"
      ]
     },
     "execution_count": 101,
     "metadata": {},
     "output_type": "execute_result"
    }
   ],
   "source": [
    "labeled_alphabet[:3]"
   ]
  },
  {
   "cell_type": "code",
   "execution_count": 102,
   "id": "80c9985e-ff2d-4b96-a2d0-06677a35b6a5",
   "metadata": {},
   "outputs": [
    {
     "data": {
      "text/plain": [
       "label_F    f\n",
       "label_G    g\n",
       "label_H    h\n",
       "label_I    i\n",
       "label_J    j\n",
       "dtype: object"
      ]
     },
     "execution_count": 102,
     "metadata": {},
     "output_type": "execute_result"
    }
   ],
   "source": [
    "labeled_alphabet['label_F':'label_J']"
   ]
  },
  {
   "cell_type": "code",
   "execution_count": 103,
   "id": "7ab9b971-ca1a-46f2-805c-95c96d53a9e5",
   "metadata": {},
   "outputs": [
    {
     "data": {
      "text/plain": [
       "label_F    f\n",
       "label_G    g\n",
       "label_H    h\n",
       "label_I    i\n",
       "label_J    j\n",
       "dtype: object"
      ]
     },
     "execution_count": 103,
     "metadata": {},
     "output_type": "execute_result"
    }
   ],
   "source": [
    "labeled_alphabet[5:10]"
   ]
  },
  {
   "cell_type": "code",
   "execution_count": 104,
   "id": "5288295d-0f9f-47ee-85c5-cdac0f6814c5",
   "metadata": {},
   "outputs": [
    {
     "data": {
      "text/plain": [
       "label_U    u\n",
       "label_V    v\n",
       "label_W    w\n",
       "label_X    x\n",
       "label_Y    y\n",
       "label_Z    z\n",
       "dtype: object"
      ]
     },
     "execution_count": 104,
     "metadata": {},
     "output_type": "execute_result"
    }
   ],
   "source": [
    "labeled_alphabet[-6:]"
   ]
  },
  {
   "cell_type": "code",
   "execution_count": 105,
   "id": "e8c4d725-f144-4f92-842d-58516bdd7f32",
   "metadata": {},
   "outputs": [
    {
     "data": {
      "text/plain": [
       "label_U    u\n",
       "label_V    v\n",
       "label_W    w\n",
       "label_X    x\n",
       "label_Y    y\n",
       "label_Z    z\n",
       "dtype: object"
      ]
     },
     "execution_count": 105,
     "metadata": {},
     "output_type": "execute_result"
    }
   ],
   "source": [
    "labeled_alphabet['label_U':]"
   ]
  },
  {
   "cell_type": "markdown",
   "id": "a6e709ec-d7ff-4171-b997-a693775c42fb",
   "metadata": {
    "jp-MarkdownHeadingCollapsed": true,
    "tags": []
   },
   "source": [
    "## **The add_prefix() and add_suffix()**"
   ]
  },
  {
   "cell_type": "code",
   "execution_count": 107,
   "id": "dde76f38-4931-4a0c-943f-58398915dceb",
   "metadata": {},
   "outputs": [
    {
     "data": {
      "text/plain": [
       "label_0     a\n",
       "label_1     b\n",
       "label_2     c\n",
       "label_3     d\n",
       "label_4     e\n",
       "label_5     f\n",
       "label_6     g\n",
       "label_7     h\n",
       "label_8     i\n",
       "label_9     j\n",
       "label_10    k\n",
       "label_11    l\n",
       "label_12    m\n",
       "label_13    n\n",
       "label_14    o\n",
       "label_15    p\n",
       "label_16    q\n",
       "label_17    r\n",
       "label_18    s\n",
       "label_19    t\n",
       "label_20    u\n",
       "label_21    v\n",
       "label_22    w\n",
       "label_23    x\n",
       "label_24    y\n",
       "label_25    z\n",
       "dtype: object"
      ]
     },
     "execution_count": 107,
     "metadata": {},
     "output_type": "execute_result"
    }
   ],
   "source": [
    "alphabet.add_prefix('label_')"
   ]
  },
  {
   "cell_type": "markdown",
   "id": "ccfa0875-5061-4aa8-8e55-8dd742bf9af7",
   "metadata": {
    "jp-MarkdownHeadingCollapsed": true,
    "tags": []
   },
   "source": [
    "## **Using Dot Notation**"
   ]
  },
  {
   "cell_type": "code",
   "execution_count": 108,
   "id": "aebf628e-c65b-4fe0-a9ec-447e1ba75f61",
   "metadata": {},
   "outputs": [
    {
     "data": {
      "text/plain": [
       "'v'"
      ]
     },
     "execution_count": 108,
     "metadata": {},
     "output_type": "execute_result"
    }
   ],
   "source": [
    "labeled_alphabet.label_V"
   ]
  },
  {
   "cell_type": "markdown",
   "id": "31333827-cc5e-43a6-9399-7ae64eaee045",
   "metadata": {
    "jp-MarkdownHeadingCollapsed": true,
    "tags": []
   },
   "source": [
    "## **Boolean Masks and the `.loc` Indexer**"
   ]
  },
  {
   "cell_type": "markdown",
   "id": "6a70d024-8df6-4665-95e3-894c46534a21",
   "metadata": {},
   "source": [
    "`.loc` is a label based extraction approach"
   ]
  },
  {
   "cell_type": "code",
   "execution_count": 112,
   "id": "5ddb1f3e-0e9e-442c-9e14-4d0845e861a2",
   "metadata": {},
   "outputs": [
    {
     "data": {
      "text/plain": [
       "label_F    f\n",
       "label_G    g\n",
       "label_H    h\n",
       "label_I    i\n",
       "label_J    j\n",
       "dtype: object"
      ]
     },
     "execution_count": 112,
     "metadata": {},
     "output_type": "execute_result"
    }
   ],
   "source": [
    "labeled_alphabet.loc['label_F':'label_J']"
   ]
  },
  {
   "cell_type": "code",
   "execution_count": 113,
   "id": "1d378fd1-5bbf-4e04-9790-e913df2312f0",
   "metadata": {},
   "outputs": [],
   "source": [
    "#boolean"
   ]
  },
  {
   "cell_type": "code",
   "execution_count": 114,
   "id": "354c43e8-1d2a-45be-b9c8-03fe4e8e39fa",
   "metadata": {},
   "outputs": [
    {
     "data": {
      "text/plain": [
       "My books\n",
       "0    Fooled by Randomness\n",
       "1                 Sapiens\n",
       "2      Lenin on the Train\n",
       "Name: my favorite books, dtype: object"
      ]
     },
     "execution_count": 114,
     "metadata": {},
     "output_type": "execute_result"
    }
   ],
   "source": [
    "book_series"
   ]
  },
  {
   "cell_type": "code",
   "execution_count": 115,
   "id": "5d37d06a-76af-4f7e-b164-360cd0c28395",
   "metadata": {},
   "outputs": [
    {
     "data": {
      "text/plain": [
       "My books\n",
       "0    Fooled by Randomness\n",
       "1                 Sapiens\n",
       "2      Lenin on the Train\n",
       "Name: my favorite books, dtype: object"
      ]
     },
     "execution_count": 115,
     "metadata": {},
     "output_type": "execute_result"
    }
   ],
   "source": [
    "book_series.loc[[True, True, True]]"
   ]
  },
  {
   "cell_type": "code",
   "execution_count": 117,
   "id": "8363f571-da88-43a7-8c13-de6244715bf0",
   "metadata": {},
   "outputs": [
    {
     "data": {
      "text/plain": [
       "My books\n",
       "1    Sapiens\n",
       "Name: my favorite books, dtype: object"
      ]
     },
     "execution_count": 117,
     "metadata": {},
     "output_type": "execute_result"
    }
   ],
   "source": [
    "book_series.loc[[False, True, False]]"
   ]
  },
  {
   "cell_type": "code",
   "execution_count": 122,
   "id": "cd230193-468b-4ead-b1c7-54e1fca37eaa",
   "metadata": {},
   "outputs": [
    {
     "data": {
      "text/plain": [
       "label_A    a\n",
       "label_B    b\n",
       "label_C    c\n",
       "label_D    d\n",
       "label_E    e\n",
       "label_F    f\n",
       "label_G    g\n",
       "label_H    h\n",
       "label_I    i\n",
       "label_J    j\n",
       "label_K    k\n",
       "label_L    l\n",
       "label_M    m\n",
       "label_N    n\n",
       "label_O    o\n",
       "label_P    p\n",
       "label_Q    q\n",
       "label_R    r\n",
       "label_S    s\n",
       "label_T    t\n",
       "label_U    u\n",
       "label_V    v\n",
       "label_W    w\n",
       "label_X    x\n",
       "label_Y    y\n",
       "label_Z    z\n",
       "dtype: object"
      ]
     },
     "execution_count": 122,
     "metadata": {},
     "output_type": "execute_result"
    }
   ],
   "source": [
    "labeled_alphabet.loc[[True for i in range(0,26)]]"
   ]
  },
  {
   "cell_type": "code",
   "execution_count": 124,
   "id": "0f2432f8-b381-48ac-81f7-9275a8ffa11d",
   "metadata": {},
   "outputs": [
    {
     "data": {
      "text/plain": [
       "label_A    a\n",
       "label_C    c\n",
       "label_E    e\n",
       "label_G    g\n",
       "label_I    i\n",
       "label_K    k\n",
       "label_M    m\n",
       "label_O    o\n",
       "label_Q    q\n",
       "label_S    s\n",
       "label_U    u\n",
       "label_W    w\n",
       "label_Y    y\n",
       "dtype: object"
      ]
     },
     "execution_count": 124,
     "metadata": {},
     "output_type": "execute_result"
    }
   ],
   "source": [
    "labeled_alphabet.loc[[True if i%2==0 else False for i in range(0,26)]]"
   ]
  },
  {
   "cell_type": "markdown",
   "id": "1efc4a08-b2de-4b45-ad05-2a618a0d1605",
   "metadata": {
    "jp-MarkdownHeadingCollapsed": true,
    "tags": []
   },
   "source": [
    "## **Extracting by Position with .iloc**"
   ]
  },
  {
   "cell_type": "markdown",
   "id": "14f9fae4-b62c-453f-b56e-fe2191b464ca",
   "metadata": {},
   "source": [
    "`iloc` -> integer `loc` (indexing by position)"
   ]
  },
  {
   "cell_type": "code",
   "execution_count": 125,
   "id": "c53ffdf6-5d1d-4b64-8ffa-6e78c91b0dca",
   "metadata": {},
   "outputs": [
    {
     "data": {
      "text/plain": [
       "label_B    b\n",
       "label_C    c\n",
       "label_D    d\n",
       "dtype: object"
      ]
     },
     "execution_count": 125,
     "metadata": {},
     "output_type": "execute_result"
    }
   ],
   "source": [
    "labeled_alphabet.iloc[1:4]"
   ]
  },
  {
   "cell_type": "code",
   "execution_count": 126,
   "id": "f4443c1d-0f9c-4b76-b5b2-ca08afcd2f8b",
   "metadata": {},
   "outputs": [
    {
     "data": {
      "text/plain": [
       "label_B    b\n",
       "label_E    e\n",
       "label_J    j\n",
       "dtype: object"
      ]
     },
     "execution_count": 126,
     "metadata": {},
     "output_type": "execute_result"
    }
   ],
   "source": [
    "labeled_alphabet.iloc[[1,4,9]]"
   ]
  },
  {
   "cell_type": "markdown",
   "id": "2cd6ab4b-16b8-41b4-850d-b2e526791157",
   "metadata": {
    "jp-MarkdownHeadingCollapsed": true,
    "tags": []
   },
   "source": [
    "## **Using callables with `.loc` and `.iloc`**"
   ]
  },
  {
   "cell_type": "markdown",
   "id": "75968a9d-59bc-4874-945c-d99facec7f5c",
   "metadata": {},
   "source": [
    "Indexing with callables:\n",
    "* used for highly customizable indexing\n",
    "* work with `[]`, `.loc` and `.iloc`"
   ]
  },
  {
   "cell_type": "code",
   "execution_count": 127,
   "id": "fcbef8d8-87ad-4c19-af3c-9f7d7dfa61d2",
   "metadata": {},
   "outputs": [
    {
     "data": {
      "text/plain": [
       "'v'"
      ]
     },
     "execution_count": 127,
     "metadata": {},
     "output_type": "execute_result"
    }
   ],
   "source": [
    "labeled_alphabet.loc['label_V']"
   ]
  },
  {
   "cell_type": "code",
   "execution_count": 128,
   "id": "d8a59f40-e2d1-4c81-a2ae-0b9fcb776a76",
   "metadata": {},
   "outputs": [
    {
     "data": {
      "text/plain": [
       "label_V    v\n",
       "label_A    a\n",
       "dtype: object"
      ]
     },
     "execution_count": 128,
     "metadata": {},
     "output_type": "execute_result"
    }
   ],
   "source": [
    "labeled_alphabet.loc[lambda x: ['label_V', 'label_A']]"
   ]
  },
  {
   "cell_type": "code",
   "execution_count": 130,
   "id": "9a3022e6-0471-4f66-b001-4415aa30a34d",
   "metadata": {},
   "outputs": [
    {
     "data": {
      "text/plain": [
       "label_A    a\n",
       "label_B    b\n",
       "label_C    c\n",
       "label_D    d\n",
       "label_E    e\n",
       "label_F    f\n",
       "label_G    g\n",
       "label_H    h\n",
       "label_I    i\n",
       "label_J    j\n",
       "label_K    k\n",
       "label_L    l\n",
       "label_M    m\n",
       "label_N    n\n",
       "label_O    o\n",
       "label_P    p\n",
       "label_Q    q\n",
       "label_R    r\n",
       "label_S    s\n",
       "label_T    t\n",
       "label_U    u\n",
       "label_V    v\n",
       "label_W    w\n",
       "label_X    x\n",
       "label_Y    y\n",
       "label_Z    z\n",
       "dtype: object"
      ]
     },
     "execution_count": 130,
     "metadata": {},
     "output_type": "execute_result"
    }
   ],
   "source": [
    "labeled_alphabet.loc[lambda x: [True for i in range(x.size)]]"
   ]
  },
  {
   "cell_type": "code",
   "execution_count": 133,
   "id": "92b04c7c-11b1-449c-bbe8-f193595b784c",
   "metadata": {},
   "outputs": [],
   "source": [
    "def every_fifth(x):\n",
    "    return [True if (i+1)%5==0 else False for i in range(x.size)]"
   ]
  },
  {
   "cell_type": "code",
   "execution_count": 134,
   "id": "3167fe91-b02a-4361-a293-cdd9fb82c36e",
   "metadata": {},
   "outputs": [
    {
     "data": {
      "text/plain": [
       "label_E    e\n",
       "label_J    j\n",
       "label_O    o\n",
       "label_T    t\n",
       "label_Y    y\n",
       "dtype: object"
      ]
     },
     "execution_count": 134,
     "metadata": {},
     "output_type": "execute_result"
    }
   ],
   "source": [
    "labeled_alphabet.iloc[every_fifth]"
   ]
  },
  {
   "cell_type": "markdown",
   "id": "5b2c3adf-628b-42c0-9ec5-3eba91d2dc4a",
   "metadata": {
    "jp-MarkdownHeadingCollapsed": true,
    "tags": []
   },
   "source": [
    "## **Selecting with `.get()`**"
   ]
  },
  {
   "cell_type": "code",
   "execution_count": 135,
   "id": "2030b1ba-2c8a-4ef1-846d-46a1a7ae9610",
   "metadata": {},
   "outputs": [
    {
     "data": {
      "text/plain": [
       "'v'"
      ]
     },
     "execution_count": 135,
     "metadata": {},
     "output_type": "execute_result"
    }
   ],
   "source": [
    "labeled_alphabet.get('label_V', default=None)"
   ]
  },
  {
   "cell_type": "code",
   "execution_count": 137,
   "id": "5b056626-9d81-404e-9f58-da68ad627828",
   "metadata": {},
   "outputs": [
    {
     "data": {
      "text/plain": [
       "'Sorry, wrong key'"
      ]
     },
     "execution_count": 137,
     "metadata": {},
     "output_type": "execute_result"
    }
   ],
   "source": [
    "labeled_alphabet.get('label_fsd', default=\"Sorry, wrong key\")"
   ]
  },
  {
   "cell_type": "code",
   "execution_count": 138,
   "id": "c305adeb-00ed-4693-bcac-17e6beffd49c",
   "metadata": {},
   "outputs": [
    {
     "data": {
      "text/plain": [
       "'i'"
      ]
     },
     "execution_count": 138,
     "metadata": {},
     "output_type": "execute_result"
    }
   ],
   "source": [
    "labeled_alphabet.get(8)"
   ]
  },
  {
   "cell_type": "code",
   "execution_count": 139,
   "id": "41685b23-1fd3-4c58-9079-e583a101f29d",
   "metadata": {},
   "outputs": [
    {
     "data": {
      "text/plain": [
       "'i'"
      ]
     },
     "execution_count": 139,
     "metadata": {},
     "output_type": "execute_result"
    }
   ],
   "source": [
    "labeled_alphabet.iloc[8]"
   ]
  },
  {
   "cell_type": "code",
   "execution_count": 140,
   "id": "83df1379-35a1-48fe-893a-b9c1dc4ed802",
   "metadata": {},
   "outputs": [
    {
     "data": {
      "text/plain": [
       "'i'"
      ]
     },
     "execution_count": 140,
     "metadata": {},
     "output_type": "execute_result"
    }
   ],
   "source": [
    "labeled_alphabet[8]"
   ]
  },
  {
   "cell_type": "markdown",
   "id": "f3166d46-371f-4daa-aec2-bb32dd701746",
   "metadata": {
    "jp-MarkdownHeadingCollapsed": true,
    "tags": []
   },
   "source": [
    "## **Skill Challenge**"
   ]
  },
  {
   "cell_type": "code",
   "execution_count": 153,
   "id": "cf6f9b98-46d7-4cb9-a5ee-fc5367b03ecc",
   "metadata": {},
   "outputs": [
    {
     "data": {
      "text/plain": [
       "0        0\n",
       "1        1\n",
       "2        4\n",
       "3        9\n",
       "4       16\n",
       "      ... \n",
       "95    9025\n",
       "96    9216\n",
       "97    9409\n",
       "98    9604\n",
       "99    9801\n",
       "Length: 100, dtype: int64"
      ]
     },
     "execution_count": 153,
     "metadata": {},
     "output_type": "execute_result"
    }
   ],
   "source": [
    "squares = pd.Series(data=[i**2 for i in range(100)])\n",
    "squares"
   ]
  },
  {
   "cell_type": "code",
   "execution_count": 154,
   "id": "70a8b5ab-c0ef-448d-ad9e-de20745895cb",
   "metadata": {},
   "outputs": [],
   "source": [
    "t1=squares[-3:]"
   ]
  },
  {
   "cell_type": "code",
   "execution_count": 155,
   "id": "780f2cf0-cbc5-4bbf-b89c-3278679f8831",
   "metadata": {},
   "outputs": [],
   "source": [
    "t2=squares.tail(3)"
   ]
  },
  {
   "cell_type": "code",
   "execution_count": 156,
   "id": "d012a662-ed99-488a-ada0-9954f80e0fe8",
   "metadata": {},
   "outputs": [
    {
     "data": {
      "text/plain": [
       "True"
      ]
     },
     "execution_count": 156,
     "metadata": {},
     "output_type": "execute_result"
    }
   ],
   "source": [
    "t1.equals(t2)"
   ]
  },
  {
   "cell_type": "code",
   "execution_count": 157,
   "id": "73908f38-e0d9-4ee1-8c8e-b4141efcd0bd",
   "metadata": {},
   "outputs": [
    {
     "data": {
      "text/plain": [
       "True"
      ]
     },
     "execution_count": 157,
     "metadata": {},
     "output_type": "execute_result"
    }
   ],
   "source": [
    "squares[-3:].equals(squares.tail(3))"
   ]
  },
  {
   "cell_type": "code",
   "execution_count": null,
   "id": "1fea9e4c-ed5a-407a-8698-475f43263105",
   "metadata": {},
   "outputs": [],
   "source": []
  }
 ],
 "metadata": {
  "kernelspec": {
   "display_name": "Python 3.7.6 64-bit ('base': conda)",
   "language": "python",
   "name": "python37664bitbaseconda5886391542a846ba87cc0afba13a0ed2"
  },
  "language_info": {
   "codemirror_mode": {
    "name": "ipython",
    "version": 3
   },
   "file_extension": ".py",
   "mimetype": "text/x-python",
   "name": "python",
   "nbconvert_exporter": "python",
   "pygments_lexer": "ipython3",
   "version": "3.7.6"
  }
 },
 "nbformat": 4,
 "nbformat_minor": 5
}
